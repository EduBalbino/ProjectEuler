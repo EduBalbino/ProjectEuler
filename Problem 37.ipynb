{
 "cells": [
  {
   "cell_type": "code",
   "execution_count": 1,
   "metadata": {
    "execution": {
     "iopub.execute_input": "2020-04-23T07:35:34.183159Z",
     "iopub.status.busy": "2020-04-23T07:35:34.183159Z",
     "iopub.status.idle": "2020-04-23T07:35:34.195159Z",
     "shell.execute_reply": "2020-04-23T07:35:34.193159Z",
     "shell.execute_reply.started": "2020-04-23T07:35:34.183159Z"
    }
   },
   "outputs": [],
   "source": [
    "def is_prime(n):\n",
    "    \"\"\"\"pre-condition: n is a nonnegative integer\n",
    "    post-condition: return True if n is prime and False otherwise.\"\"\"\n",
    "    if n < 2: \n",
    "         return False;\n",
    "    if n % 2 == 0:             \n",
    "         return n == 2  # return False\n",
    "    k = 3\n",
    "    while k*k <= n:\n",
    "         if n % k == 0:\n",
    "            return False\n",
    "         k += 2\n",
    "    return True"
   ]
  },
  {
   "cell_type": "code",
   "execution_count": 8,
   "metadata": {
    "execution": {
     "iopub.execute_input": "2020-04-23T07:40:32.913245Z",
     "iopub.status.busy": "2020-04-23T07:40:32.912245Z",
     "iopub.status.idle": "2020-04-23T07:40:32.922246Z",
     "shell.execute_reply": "2020-04-23T07:40:32.920245Z",
     "shell.execute_reply.started": "2020-04-23T07:40:32.913245Z"
    }
   },
   "outputs": [],
   "source": [
    "def get_slices(x):\n",
    "    output_list = []\n",
    "    for x in range(1, len(a := str(x))):\n",
    "        output_list.extend([int(a[x:]), int(a[:x])])\n",
    "    return output_list"
   ]
  },
  {
   "cell_type": "code",
   "execution_count": 13,
   "metadata": {
    "execution": {
     "iopub.execute_input": "2020-04-23T07:43:57.754961Z",
     "iopub.status.busy": "2020-04-23T07:43:57.753961Z",
     "iopub.status.idle": "2020-04-23T07:44:15.256962Z",
     "shell.execute_reply": "2020-04-23T07:44:15.255962Z",
     "shell.execute_reply.started": "2020-04-23T07:43:57.754961Z"
    }
   },
   "outputs": [
    {
     "data": {
      "text/plain": [
       "748317"
      ]
     },
     "execution_count": 13,
     "metadata": {},
     "output_type": "execute_result"
    }
   ],
   "source": [
    "results_list = []\n",
    "for x in range(10, 1000000):\n",
    "    if is_prime(x):\n",
    "        if all(list(map(is_prime, get_slices(x)))):\n",
    "            results_list.append(x)\n",
    "sum(results_list)"
   ]
  }
 ],
 "metadata": {
  "kernelspec": {
   "display_name": "Python 3.8.1 32-bit",
   "language": "python",
   "name": "python38132bit23b1fddd62bd4f8ab6b58dac3b5ae4b5"
  },
  "language_info": {
   "codemirror_mode": {
    "name": "ipython",
    "version": 3
   },
   "file_extension": ".py",
   "mimetype": "text/x-python",
   "name": "python",
   "nbconvert_exporter": "python",
   "pygments_lexer": "ipython3",
   "version": "3.8.2"
  }
 },
 "nbformat": 4,
 "nbformat_minor": 4
}
