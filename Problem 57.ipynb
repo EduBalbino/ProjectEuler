{
 "cells": [
  {
   "cell_type": "code",
   "execution_count": 40,
   "metadata": {
    "execution": {
     "iopub.execute_input": "2020-04-28T09:10:51.227776Z",
     "iopub.status.busy": "2020-04-28T09:10:51.227776Z",
     "iopub.status.idle": "2020-04-28T09:10:51.237777Z",
     "shell.execute_reply": "2020-04-28T09:10:51.236777Z",
     "shell.execute_reply.started": "2020-04-28T09:10:51.227776Z"
    }
   },
   "outputs": [],
   "source": [
    "from sympy import *\n",
    "from math import log10\n",
    "x, y, z, w = symbols('x y z w')\n",
    "init_printing(use_unicode = True)"
   ]
  },
  {
   "cell_type": "code",
   "execution_count": 19,
   "metadata": {
    "execution": {
     "iopub.execute_input": "2020-04-28T09:03:33.333730Z",
     "iopub.status.busy": "2020-04-28T09:03:33.332730Z",
     "iopub.status.idle": "2020-04-28T09:03:33.341731Z",
     "shell.execute_reply": "2020-04-28T09:03:33.340731Z",
     "shell.execute_reply.started": "2020-04-28T09:03:33.333730Z"
    }
   },
   "outputs": [],
   "source": [
    "def list_to_frac(n):\n",
    "    expr = Integer(0)\n",
    "    for i in reversed(n[1:]):\n",
    "        expr += i\n",
    "        expr = 1/expr\n",
    "    return n[0] + expr"
   ]
  },
  {
   "cell_type": "code",
   "execution_count": 63,
   "metadata": {
    "execution": {
     "iopub.execute_input": "2020-04-28T09:14:01.043633Z",
     "iopub.status.busy": "2020-04-28T09:14:01.042633Z",
     "iopub.status.idle": "2020-04-28T09:14:01.053634Z",
     "shell.execute_reply": "2020-04-28T09:14:01.052634Z",
     "shell.execute_reply.started": "2020-04-28T09:14:01.043633Z"
    }
   },
   "outputs": [],
   "source": [
    "def p_57():\n",
    "    count = 0\n",
    "    lista = [1]\n",
    "    for x in range(1, 1001):\n",
    "        if len(str(numer(a:=list_to_frac(lista)))) > len(str((denom(a)))):\n",
    "            count += 1\n",
    "        lista.append(2)\n",
    "    return count"
   ]
  },
  {
   "cell_type": "code",
   "execution_count": 64,
   "metadata": {
    "execution": {
     "iopub.execute_input": "2020-04-28T09:14:01.937684Z",
     "iopub.status.busy": "2020-04-28T09:14:01.937684Z",
     "iopub.status.idle": "2020-04-28T09:14:13.981373Z",
     "shell.execute_reply": "2020-04-28T09:14:13.980373Z",
     "shell.execute_reply.started": "2020-04-28T09:14:01.937684Z"
    }
   },
   "outputs": [
    {
     "name": "stdout",
     "output_type": "stream",
     "text": [
      "153\n"
     ]
    }
   ],
   "source": [
    "print(p_57())"
   ]
  },
  {
   "cell_type": "code",
   "execution_count": null,
   "metadata": {},
   "outputs": [],
   "source": []
  }
 ],
 "metadata": {
  "kernelspec": {
   "display_name": "Python 3.8.1 32-bit",
   "language": "python",
   "name": "python38132bit23b1fddd62bd4f8ab6b58dac3b5ae4b5"
  },
  "language_info": {
   "codemirror_mode": {
    "name": "ipython",
    "version": 3
   },
   "file_extension": ".py",
   "mimetype": "text/x-python",
   "name": "python",
   "nbconvert_exporter": "python",
   "pygments_lexer": "ipython3",
   "version": "3.8.2"
  }
 },
 "nbformat": 4,
 "nbformat_minor": 4
}
