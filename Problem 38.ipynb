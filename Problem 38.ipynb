{
 "cells": [
  {
   "cell_type": "code",
   "execution_count": 22,
   "metadata": {
    "execution": {
     "iopub.execute_input": "2020-04-23T20:58:08.839910Z",
     "iopub.status.busy": "2020-04-23T20:58:08.838910Z",
     "iopub.status.idle": "2020-04-23T20:58:15.430287Z",
     "shell.execute_reply": "2020-04-23T20:58:15.429287Z",
     "shell.execute_reply.started": "2020-04-23T20:58:08.839910Z"
    }
   },
   "outputs": [],
   "source": [
    "lista = []\n",
    "for x in range(1, 100000):\n",
    "    if is_pandigital(a:=str(x) + str(2*x)):\n",
    "        lista.append(a)\n",
    "    if is_pandigital(b:=a + str(3*x)):\n",
    "        lista.append(b)\n",
    "    if is_pandigital(c:=b + str(4*x)):\n",
    "        lista.append(c)\n",
    "    if is_pandigital(d:=c + str(5*x)):\n",
    "        lista.append(d)\n",
    "    if is_pandigital(e:=d + str(6*x)):\n",
    "        lista.append(e)\n",
    "    if is_pandigital(f:=e + str(7*x)):\n",
    "        lista.append(f)\n",
    "    if is_pandigital(g:=f + str(8*x)):\n",
    "        lista.append(g)\n",
    "    if is_pandigital(h:=g + str(9*x)):\n",
    "        lista.append(h)"
   ]
  },
  {
   "cell_type": "code",
   "execution_count": 23,
   "metadata": {
    "execution": {
     "iopub.execute_input": "2020-04-23T20:58:19.443517Z",
     "iopub.status.busy": "2020-04-23T20:58:19.442517Z",
     "iopub.status.idle": "2020-04-23T20:58:19.451517Z",
     "shell.execute_reply": "2020-04-23T20:58:19.450517Z",
     "shell.execute_reply.started": "2020-04-23T20:58:19.443517Z"
    }
   },
   "outputs": [
    {
     "data": {
      "text/plain": [
       "'932718654'"
      ]
     },
     "execution_count": 23,
     "metadata": {},
     "output_type": "execute_result"
    }
   ],
   "source": [
    "max(lista)"
   ]
  },
  {
   "cell_type": "code",
   "execution_count": 13,
   "metadata": {
    "execution": {
     "iopub.execute_input": "2020-04-23T20:49:42.824968Z",
     "iopub.status.busy": "2020-04-23T20:49:42.823968Z",
     "iopub.status.idle": "2020-04-23T20:49:42.838969Z",
     "shell.execute_reply": "2020-04-23T20:49:42.830968Z",
     "shell.execute_reply.started": "2020-04-23T20:49:42.824968Z"
    }
   },
   "outputs": [],
   "source": [
    "def is_pandigital(x):\n",
    "    if ''.join(list(sorted(str(x)))) == '123456789':\n",
    "        return True\n",
    "    else:\n",
    "        return False"
   ]
  },
  {
   "cell_type": "code",
   "execution_count": 17,
   "metadata": {
    "execution": {
     "iopub.execute_input": "2020-04-23T20:50:03.138130Z",
     "iopub.status.busy": "2020-04-23T20:50:03.138130Z",
     "iopub.status.idle": "2020-04-23T20:50:03.153131Z",
     "shell.execute_reply": "2020-04-23T20:50:03.150131Z",
     "shell.execute_reply.started": "2020-04-23T20:50:03.138130Z"
    }
   },
   "outputs": [
    {
     "data": {
      "text/plain": [
       "False"
      ]
     },
     "execution_count": 17,
     "metadata": {},
     "output_type": "execute_result"
    }
   ],
   "source": [
    "is_pandigital(234562819)"
   ]
  },
  {
   "cell_type": "code",
   "execution_count": 12,
   "metadata": {
    "execution": {
     "iopub.execute_input": "2020-04-23T20:49:03.603725Z",
     "iopub.status.busy": "2020-04-23T20:49:03.603725Z",
     "iopub.status.idle": "2020-04-23T20:49:03.624726Z",
     "shell.execute_reply": "2020-04-23T20:49:03.622726Z",
     "shell.execute_reply.started": "2020-04-23T20:49:03.603725Z"
    }
   },
   "outputs": [
    {
     "data": {
      "text/plain": [
       "'1156'"
      ]
     },
     "execution_count": 12,
     "metadata": {},
     "output_type": "execute_result"
    }
   ],
   "source": [
    "''.join(list(sorted(str(x))))"
   ]
  },
  {
   "cell_type": "code",
   "execution_count": 11,
   "metadata": {
    "execution": {
     "iopub.execute_input": "2020-04-23T20:48:59.005462Z",
     "iopub.status.busy": "2020-04-23T20:48:59.004462Z",
     "iopub.status.idle": "2020-04-23T20:48:59.014462Z",
     "shell.execute_reply": "2020-04-23T20:48:59.012462Z",
     "shell.execute_reply.started": "2020-04-23T20:48:59.005462Z"
    }
   },
   "outputs": [
    {
     "data": {
      "text/plain": [
       "'1516'"
      ]
     },
     "execution_count": 11,
     "metadata": {},
     "output_type": "execute_result"
    }
   ],
   "source": [
    "str(15) + str(1)"
   ]
  },
  {
   "cell_type": "code",
   "execution_count": null,
   "metadata": {},
   "outputs": [],
   "source": []
  }
 ],
 "metadata": {
  "kernelspec": {
   "display_name": "Python 3.8.1 32-bit",
   "language": "python",
   "name": "python38132bit23b1fddd62bd4f8ab6b58dac3b5ae4b5"
  },
  "language_info": {
   "codemirror_mode": {
    "name": "ipython",
    "version": 3
   },
   "file_extension": ".py",
   "mimetype": "text/x-python",
   "name": "python",
   "nbconvert_exporter": "python",
   "pygments_lexer": "ipython3",
   "version": "3.8.2"
  }
 },
 "nbformat": 4,
 "nbformat_minor": 4
}
