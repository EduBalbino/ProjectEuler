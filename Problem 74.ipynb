{
 "cells": [
  {
   "cell_type": "code",
   "execution_count": 58,
   "metadata": {
    "execution": {
     "iopub.execute_input": "2020-06-04T23:22:44.104437Z",
     "iopub.status.busy": "2020-06-04T23:22:44.103437Z",
     "iopub.status.idle": "2020-06-04T23:22:44.119438Z",
     "shell.execute_reply": "2020-06-04T23:22:44.118437Z",
     "shell.execute_reply.started": "2020-06-04T23:22:44.104437Z"
    }
   },
   "outputs": [],
   "source": [
    "from math import factorial\n",
    "\n",
    "def p_074():\n",
    "    algarismsFactorials = list(map(factorial, [0,1,2,3,4,5,6,7,8,9]))\n",
    "    somadosfatoriais = lambda x : sum([algarismsFactorials[y] for y in list(map(int, str(x)))])\n",
    "    \n",
    "    size = 10**6\n",
    "    lista = [[x] for x in range(size + 1)]\n",
    "    \n",
    "    soma = 0\n",
    "    \n",
    "    for x in range(size + 1):\n",
    "        while(True):\n",
    "            if (a:=somadosfatoriais(lista[x][-1])) not in lista[x]:\n",
    "                lista[x].append(a)\n",
    "            else:\n",
    "                if len(lista[x]) == 60:\n",
    "                    soma += 1\n",
    "                break\n",
    "    return soma"
   ]
  },
  {
   "cell_type": "code",
   "execution_count": 55,
   "metadata": {
    "execution": {
     "iopub.execute_input": "2020-06-04T20:30:06.766031Z",
     "iopub.status.busy": "2020-06-04T20:30:06.765031Z",
     "iopub.status.idle": "2020-06-04T20:32:51.570457Z",
     "shell.execute_reply": "2020-06-04T20:32:51.569457Z",
     "shell.execute_reply.started": "2020-06-04T20:30:06.765031Z"
    }
   },
   "outputs": [
    {
     "name": "stdout",
     "output_type": "stream",
     "text": [
      "402\n"
     ]
    }
   ],
   "source": [
    "print(p_074())"
   ]
  },
  {
   "cell_type": "code",
   "execution_count": null,
   "metadata": {},
   "outputs": [],
   "source": []
  }
 ],
 "metadata": {
  "kernelspec": {
   "display_name": "Python 3.8.1 32-bit",
   "language": "python",
   "name": "python38132bit23b1fddd62bd4f8ab6b58dac3b5ae4b5"
  },
  "language_info": {
   "codemirror_mode": {
    "name": "ipython",
    "version": 3
   },
   "file_extension": ".py",
   "mimetype": "text/x-python",
   "name": "python",
   "nbconvert_exporter": "python",
   "pygments_lexer": "ipython3",
   "version": "3.8.2"
  }
 },
 "nbformat": 4,
 "nbformat_minor": 4
}
