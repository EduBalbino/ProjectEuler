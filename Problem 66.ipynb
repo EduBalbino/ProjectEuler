{
 "cells": [
  {
   "cell_type": "code",
   "execution_count": 95,
   "metadata": {
    "execution": {
     "iopub.execute_input": "2020-05-31T04:43:01.857878Z",
     "iopub.status.busy": "2020-05-31T04:43:01.856878Z",
     "iopub.status.idle": "2020-05-31T04:43:01.894880Z",
     "shell.execute_reply": "2020-05-31T04:43:01.888880Z",
     "shell.execute_reply.started": "2020-05-31T04:43:01.857878Z"
    }
   },
   "outputs": [],
   "source": [
    "from math import *\n",
    "\n",
    "quadrados = {x*x for x in range(32)}\n",
    "\n",
    "def p_066():\n",
    "    maxPair = [0, 0]\n",
    "    for D in range(1, 1001):\n",
    "        if D not in quadrados:\n",
    "            U = [0]; V = [1]; a = [isqrt(D)]; P = [1, a[0]]; Q =[0, 1]\n",
    "            while(True):\n",
    "                U.append(a[-1]*V[-1] - U[-1])\n",
    "                V.append((D - U[-1]**2)//V[-1])\n",
    "                a.append(isqrt((a[0] + U[-1])//V[-1]))\n",
    "                P.append(a[-1]*P[-1] + P[-2])\n",
    "                Q.append(a[-1]*Q[-1] + Q[-2])\n",
    "                if (a[-1] > a[0] or V[-1] == 1):\n",
    "                    if len(P)%2 == 0:\n",
    "                        if ((a:=P[-2]) > maxPair[0]):\n",
    "                            maxPair[0] = a\n",
    "                            maxPair[1] = D\n",
    "                    else:\n",
    "                        if ((a:=P[-2]**2 + D*(Q[-2]**2)) > maxPair[0]):\n",
    "                            maxPair[0] = a\n",
    "                            maxPair[1] = D\n",
    "                    break\n",
    "    return maxPair[1]"
   ]
  },
  {
   "cell_type": "code",
   "execution_count": 96,
   "metadata": {
    "execution": {
     "iopub.execute_input": "2020-05-31T04:43:05.161067Z",
     "iopub.status.busy": "2020-05-31T04:43:05.160067Z",
     "iopub.status.idle": "2020-05-31T04:43:05.329076Z",
     "shell.execute_reply": "2020-05-31T04:43:05.328076Z",
     "shell.execute_reply.started": "2020-05-31T04:43:05.161067Z"
    }
   },
   "outputs": [
    {
     "name": "stdout",
     "output_type": "stream",
     "text": [
      "661\n"
     ]
    }
   ],
   "source": [
    "print(p_066())"
   ]
  },
  {
   "cell_type": "code",
   "execution_count": null,
   "metadata": {},
   "outputs": [],
   "source": []
  }
 ],
 "metadata": {
  "kernelspec": {
   "display_name": "Python 3.8.1 32-bit",
   "language": "python",
   "name": "python38132bit23b1fddd62bd4f8ab6b58dac3b5ae4b5"
  },
  "language_info": {
   "codemirror_mode": {
    "name": "ipython",
    "version": 3
   },
   "file_extension": ".py",
   "mimetype": "text/x-python",
   "name": "python",
   "nbconvert_exporter": "python",
   "pygments_lexer": "ipython3",
   "version": "3.8.2"
  }
 },
 "nbformat": 4,
 "nbformat_minor": 4
}
