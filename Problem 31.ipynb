{
 "cells": [
  {
   "cell_type": "code",
   "execution_count": 114,
   "metadata": {
    "execution": {
     "iopub.execute_input": "2020-04-21T20:17:02.207799Z",
     "iopub.status.busy": "2020-04-21T20:17:02.206799Z",
     "iopub.status.idle": "2020-04-21T20:17:02.218799Z",
     "shell.execute_reply": "2020-04-21T20:17:02.216799Z",
     "shell.execute_reply.started": "2020-04-21T20:17:02.207799Z"
    }
   },
   "outputs": [],
   "source": [
    "possible_change_list = [[[1, 200], [0, 100], [0, 50], [0, 20], [0, 10], [0, 5], [0, 2], [0, 1]]]"
   ]
  },
  {
   "cell_type": "code",
   "execution_count": 118,
   "metadata": {
    "execution": {
     "iopub.execute_input": "2020-04-21T20:26:42.743003Z",
     "iopub.status.busy": "2020-04-21T20:26:42.743003Z",
     "iopub.status.idle": "2020-04-21T20:35:34.697430Z",
     "shell.execute_reply": "2020-04-21T20:35:34.695429Z",
     "shell.execute_reply.started": "2020-04-21T20:26:42.743003Z"
    }
   },
   "outputs": [
    {
     "ename": "KeyboardInterrupt",
     "evalue": "",
     "output_type": "error",
     "traceback": [
      "\u001b[1;31m---------------------------------------------------------------------------\u001b[0m",
      "\u001b[1;31mKeyboardInterrupt\u001b[0m                         Traceback (most recent call last)",
      "\u001b[1;32m<ipython-input-118-b437b126e6e6>\u001b[0m in \u001b[0;36m<module>\u001b[1;34m\u001b[0m\n\u001b[0;32m     25\u001b[0m                             \u001b[1;32mbreak\u001b[0m\u001b[1;33m\u001b[0m\u001b[1;33m\u001b[0m\u001b[0m\n\u001b[0;32m     26\u001b[0m                         \u001b[1;32mfor\u001b[0m \u001b[0mg\u001b[0m \u001b[1;32min\u001b[0m \u001b[0mrange\u001b[0m\u001b[1;33m(\u001b[0m\u001b[1;36m3\u001b[0m\u001b[1;33m)\u001b[0m\u001b[1;33m:\u001b[0m\u001b[1;33m\u001b[0m\u001b[1;33m\u001b[0m\u001b[0m\n\u001b[1;32m---> 27\u001b[1;33m                             \u001b[1;32mif\u001b[0m \u001b[0ma\u001b[0m \u001b[1;33m+\u001b[0m \u001b[1;36m2\u001b[0m\u001b[1;33m*\u001b[0m\u001b[0mb\u001b[0m \u001b[1;33m+\u001b[0m \u001b[1;36m5\u001b[0m\u001b[1;33m*\u001b[0m\u001b[0mc\u001b[0m \u001b[1;33m+\u001b[0m \u001b[1;36m10\u001b[0m\u001b[1;33m*\u001b[0m\u001b[0md\u001b[0m \u001b[1;33m+\u001b[0m \u001b[1;36m20\u001b[0m\u001b[1;33m*\u001b[0m\u001b[0me\u001b[0m \u001b[1;33m+\u001b[0m \u001b[1;36m50\u001b[0m\u001b[1;33m*\u001b[0m\u001b[0mf\u001b[0m \u001b[1;33m+\u001b[0m \u001b[1;36m100\u001b[0m\u001b[1;33m*\u001b[0m\u001b[0mg\u001b[0m \u001b[1;33m==\u001b[0m \u001b[1;36m200\u001b[0m\u001b[1;33m:\u001b[0m\u001b[1;33m\u001b[0m\u001b[1;33m\u001b[0m\u001b[0m\n\u001b[0m\u001b[0;32m     28\u001b[0m                                 \u001b[0mcont\u001b[0m \u001b[1;33m+=\u001b[0m \u001b[1;36m1\u001b[0m\u001b[1;33m\u001b[0m\u001b[1;33m\u001b[0m\u001b[0m\n",
      "\u001b[1;31mKeyboardInterrupt\u001b[0m: "
     ]
    }
   ],
   "source": [
    "cont = 0\n",
    "for a in range(201):\n",
    "    if a == 200:\n",
    "        cont += 1\n",
    "        break\n",
    "    for b in range(101):\n",
    "        if a + 2*b == 200:\n",
    "            cont += 1\n",
    "            break\n",
    "        for c in range(41):\n",
    "            if a + 2*b + 5*c == 200:\n",
    "                cont += 1\n",
    "                break\n",
    "            for d in range(21):\n",
    "                if a + 2*b + 5*c + 10*d == 200:\n",
    "                    cont += 1\n",
    "                    break\n",
    "                for e in range(11):\n",
    "                    if a + 2*b + 5*c + 10*d + 20*e == 200:\n",
    "                        cont += 1\n",
    "                        break\n",
    "                    for f in range(15):\n",
    "                        if a + 2*b + 5*c + 10*d + 20*e + 50*f == 200:\n",
    "                            cont += 1\n",
    "                            break\n",
    "                        for g in range(3):\n",
    "                            if a + 2*b + 5*c + 10*d + 20*e + 50*f + 100*g == 200:\n",
    "                                cont += 1"
   ]
  },
  {
   "cell_type": "code",
   "execution_count": null,
   "metadata": {
    "execution": {
     "iopub.status.busy": "2020-04-21T20:35:34.701430Z",
     "iopub.status.idle": "2020-04-21T20:35:34.703430Z"
    }
   },
   "outputs": [],
   "source": [
    "cont"
   ]
  },
  {
   "cell_type": "code",
   "execution_count": 119,
   "metadata": {
    "execution": {
     "iopub.execute_input": "2020-04-21T20:37:47.778041Z",
     "iopub.status.busy": "2020-04-21T20:37:47.777041Z",
     "iopub.status.idle": "2020-04-21T20:43:21.147109Z",
     "shell.execute_reply": "2020-04-21T20:43:21.146109Z",
     "shell.execute_reply.started": "2020-04-21T20:37:47.778041Z"
    }
   },
   "outputs": [],
   "source": [
    "cont = 0\n",
    "for g in range(3):\n",
    "    if a + 2*b + 5*c + 10*d + 20*e + 50*f + 100*g == 200:\n",
    "        cont += 1\n",
    "        break\n",
    "    for f in range(15):\n",
    "        if 50*f + 100*g == 200:\n",
    "            cont += 1\n",
    "            break\n",
    "        for e in range(11):\n",
    "            if 20*e + 50*f + 100*g == 200:\n",
    "                cont += 1\n",
    "                break\n",
    "            for d in range(21):\n",
    "                if 10*d + 20*e + 50*f + 100*g == 200:\n",
    "                    cont += 1\n",
    "                    break\n",
    "                for c in range(41):\n",
    "                    if 5*c + 10*d + 20*e + 50*f + 100*g == 200:\n",
    "                        cont += 1\n",
    "                        break\n",
    "                    for b in range(101):\n",
    "                        if 2*b + 5*c + 10*d + 20*e + 50*f + 100*g == 200:\n",
    "                            cont += 1\n",
    "                            break\n",
    "                        for a in range(201):\n",
    "                            if a + 2*b + 5*c + 10*d + 20*e + 50*f + 100*g == 200:\n",
    "                                cont += 1"
   ]
  },
  {
   "cell_type": "code",
   "execution_count": 120,
   "metadata": {
    "execution": {
     "iopub.execute_input": "2020-04-21T20:43:21.149109Z",
     "iopub.status.busy": "2020-04-21T20:43:21.148109Z",
     "iopub.status.idle": "2020-04-21T20:43:21.155109Z",
     "shell.execute_reply": "2020-04-21T20:43:21.154109Z",
     "shell.execute_reply.started": "2020-04-21T20:43:21.149109Z"
    }
   },
   "outputs": [
    {
     "data": {
      "text/plain": [
       "73681"
      ]
     },
     "execution_count": 120,
     "metadata": {},
     "output_type": "execute_result"
    }
   ],
   "source": [
    "cont"
   ]
  },
  {
   "cell_type": "code",
   "execution_count": null,
   "metadata": {},
   "outputs": [],
   "source": []
  }
 ],
 "metadata": {
  "kernelspec": {
   "display_name": "Python 3.8.1 32-bit",
   "language": "python",
   "name": "python38132bit23b1fddd62bd4f8ab6b58dac3b5ae4b5"
  },
  "language_info": {
   "codemirror_mode": {
    "name": "ipython",
    "version": 3
   },
   "file_extension": ".py",
   "mimetype": "text/x-python",
   "name": "python",
   "nbconvert_exporter": "python",
   "pygments_lexer": "ipython3",
   "version": "3.8.2"
  }
 },
 "nbformat": 4,
 "nbformat_minor": 4
}
