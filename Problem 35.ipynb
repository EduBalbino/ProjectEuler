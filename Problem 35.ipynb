{
 "cells": [
  {
   "cell_type": "code",
   "execution_count": 1,
   "metadata": {
    "execution": {
     "iopub.execute_input": "2020-04-23T07:21:08.292633Z",
     "iopub.status.busy": "2020-04-23T07:21:08.291633Z",
     "iopub.status.idle": "2020-04-23T07:21:08.300633Z",
     "shell.execute_reply": "2020-04-23T07:21:08.299633Z",
     "shell.execute_reply.started": "2020-04-23T07:21:08.292633Z"
    }
   },
   "outputs": [],
   "source": [
    "def is_prime(n):\n",
    "    if n < 2: \n",
    "         return False;\n",
    "    if n % 2 == 0:             \n",
    "         return n == 2  # return False\n",
    "    k = 3\n",
    "    while k*k <= n:\n",
    "         if n % k == 0:\n",
    "            return False\n",
    "         k += 2\n",
    "    return True"
   ]
  },
  {
   "cell_type": "code",
   "execution_count": 17,
   "metadata": {
    "execution": {
     "iopub.execute_input": "2020-04-23T07:26:38.835539Z",
     "iopub.status.busy": "2020-04-23T07:26:38.834538Z",
     "iopub.status.idle": "2020-04-23T07:26:38.843539Z",
     "shell.execute_reply": "2020-04-23T07:26:38.842539Z",
     "shell.execute_reply.started": "2020-04-23T07:26:38.835539Z"
    }
   },
   "outputs": [],
   "source": [
    "def circular_permutations(x):\n",
    "    output_list = []\n",
    "    for x in range(1, len(a := str(x))):\n",
    "        output_list.append(is_prime(int(a[x:] + a[:x])))\n",
    "    return output_list"
   ]
  },
  {
   "cell_type": "code",
   "execution_count": 18,
   "metadata": {
    "execution": {
     "iopub.execute_input": "2020-04-23T07:26:38.985547Z",
     "iopub.status.busy": "2020-04-23T07:26:38.985547Z",
     "iopub.status.idle": "2020-04-23T07:27:05.845083Z",
     "shell.execute_reply": "2020-04-23T07:27:05.844083Z",
     "shell.execute_reply.started": "2020-04-23T07:26:38.985547Z"
    }
   },
   "outputs": [],
   "source": [
    "lista = []\n",
    "for x in range(1, 1000000):\n",
    "    if is_prime(x):\n",
    "        if all(circular_permutations(x)):\n",
    "            lista.append(x)"
   ]
  },
  {
   "cell_type": "code",
   "execution_count": 20,
   "metadata": {
    "execution": {
     "iopub.execute_input": "2020-04-23T07:27:11.884429Z",
     "iopub.status.busy": "2020-04-23T07:27:11.884429Z",
     "iopub.status.idle": "2020-04-23T07:27:11.893429Z",
     "shell.execute_reply": "2020-04-23T07:27:11.892429Z",
     "shell.execute_reply.started": "2020-04-23T07:27:11.884429Z"
    }
   },
   "outputs": [
    {
     "data": {
      "text/plain": [
       "[2,\n",
       " 3,\n",
       " 5,\n",
       " 7,\n",
       " 11,\n",
       " 13,\n",
       " 17,\n",
       " 31,\n",
       " 37,\n",
       " 71,\n",
       " 73,\n",
       " 79,\n",
       " 97,\n",
       " 113,\n",
       " 131,\n",
       " 197,\n",
       " 199,\n",
       " 311,\n",
       " 337,\n",
       " 373,\n",
       " 719,\n",
       " 733,\n",
       " 919,\n",
       " 971,\n",
       " 991,\n",
       " 1193,\n",
       " 1931,\n",
       " 3119,\n",
       " 3779,\n",
       " 7793,\n",
       " 7937,\n",
       " 9311,\n",
       " 9377,\n",
       " 11939,\n",
       " 19391,\n",
       " 19937,\n",
       " 37199,\n",
       " 39119,\n",
       " 71993,\n",
       " 91193,\n",
       " 93719,\n",
       " 93911,\n",
       " 99371,\n",
       " 193939,\n",
       " 199933,\n",
       " 319993,\n",
       " 331999,\n",
       " 391939,\n",
       " 393919,\n",
       " 919393,\n",
       " 933199,\n",
       " 939193,\n",
       " 939391,\n",
       " 993319,\n",
       " 999331]"
      ]
     },
     "execution_count": 20,
     "metadata": {},
     "output_type": "execute_result"
    }
   ],
   "source": [
    "lista"
   ]
  },
  {
   "cell_type": "code",
   "execution_count": 19,
   "metadata": {
    "execution": {
     "iopub.execute_input": "2020-04-23T07:27:08.827254Z",
     "iopub.status.busy": "2020-04-23T07:27:08.826254Z",
     "iopub.status.idle": "2020-04-23T07:27:08.836254Z",
     "shell.execute_reply": "2020-04-23T07:27:08.835254Z",
     "shell.execute_reply.started": "2020-04-23T07:27:08.827254Z"
    }
   },
   "outputs": [
    {
     "data": {
      "text/plain": [
       "55"
      ]
     },
     "execution_count": 19,
     "metadata": {},
     "output_type": "execute_result"
    }
   ],
   "source": [
    "len(lista)"
   ]
  },
  {
   "cell_type": "code",
   "execution_count": 14,
   "metadata": {
    "execution": {
     "iopub.execute_input": "2020-04-23T07:25:30.134609Z",
     "iopub.status.busy": "2020-04-23T07:25:30.133609Z",
     "iopub.status.idle": "2020-04-23T07:25:30.142610Z",
     "shell.execute_reply": "2020-04-23T07:25:30.141609Z",
     "shell.execute_reply.started": "2020-04-23T07:25:30.134609Z"
    }
   },
   "outputs": [
    {
     "data": {
      "text/plain": [
       "True"
      ]
     },
     "execution_count": 14,
     "metadata": {},
     "output_type": "execute_result"
    }
   ],
   "source": [
    "all([True, True, True])"
   ]
  },
  {
   "cell_type": "code",
   "execution_count": 48,
   "metadata": {
    "execution": {
     "iopub.execute_input": "2020-04-23T07:17:51.532379Z",
     "iopub.status.busy": "2020-04-23T07:17:51.531378Z",
     "iopub.status.idle": "2020-04-23T07:17:51.542379Z",
     "shell.execute_reply": "2020-04-23T07:17:51.540379Z",
     "shell.execute_reply.started": "2020-04-23T07:17:51.532379Z"
    }
   },
   "outputs": [
    {
     "name": "stdout",
     "output_type": "stream",
     "text": [
      "1555\n",
      "5551\n",
      "5515\n",
      "5155\n"
     ]
    }
   ],
   "source": [
    "for x in range(len(a:=str(1555))):\n",
    "    print(a[x:] + a[:x])"
   ]
  },
  {
   "cell_type": "code",
   "execution_count": null,
   "metadata": {},
   "outputs": [],
   "source": []
  }
 ],
 "metadata": {
  "kernelspec": {
   "display_name": "Python 3.8.1 32-bit",
   "language": "python",
   "name": "python38132bit23b1fddd62bd4f8ab6b58dac3b5ae4b5"
  },
  "language_info": {
   "codemirror_mode": {
    "name": "ipython",
    "version": 3
   },
   "file_extension": ".py",
   "mimetype": "text/x-python",
   "name": "python",
   "nbconvert_exporter": "python",
   "pygments_lexer": "ipython3",
   "version": "3.8.2"
  }
 },
 "nbformat": 4,
 "nbformat_minor": 4
}
