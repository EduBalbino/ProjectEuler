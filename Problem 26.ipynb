{
 "cells": [
  {
   "cell_type": "code",
   "execution_count": 95,
   "metadata": {
    "execution": {
     "iopub.execute_input": "2020-04-21T00:56:55.137094Z",
     "iopub.status.busy": "2020-04-21T00:56:55.137094Z",
     "iopub.status.idle": "2020-04-21T00:56:55.151094Z",
     "shell.execute_reply": "2020-04-21T00:56:55.150094Z",
     "shell.execute_reply.started": "2020-04-21T00:56:55.137094Z"
    }
   },
   "outputs": [],
   "source": [
    "def cycle(n):\n",
    "    myList = [1]\n",
    "    t = 1\n",
    "    f = (10**t) % n\n",
    "    while myList.count(f) == 0:\n",
    "        myList.append(f)\n",
    "        t = t + 1\n",
    "        f = (10**t) % n\n",
    "    try:\n",
    "        s = myList.index(f)\n",
    "    except ValueError:\n",
    "        s = 0\n",
    "    return t-s\n",
    "\n",
    "def solve():\n",
    "    mx, val = 0, 0\n",
    "    for n in range(2, 1000):\n",
    "        m = cycle(n)\n",
    "        if m > mx:\n",
    "            mx = m\n",
    "            val = n\n",
    "    print(mx, val)\n"
   ]
  },
  {
   "cell_type": "code",
   "execution_count": 99,
   "metadata": {
    "execution": {
     "iopub.execute_input": "2020-04-21T00:57:21.469600Z",
     "iopub.status.busy": "2020-04-21T00:57:21.468600Z",
     "iopub.status.idle": "2020-04-21T00:57:22.307648Z",
     "shell.execute_reply": "2020-04-21T00:57:22.305647Z",
     "shell.execute_reply.started": "2020-04-21T00:57:21.469600Z"
    }
   },
   "outputs": [
    {
     "name": "stdout",
     "output_type": "stream",
     "text": [
      "982 983\n"
     ]
    }
   ],
   "source": [
    "solve()"
   ]
  },
  {
   "cell_type": "code",
   "execution_count": null,
   "metadata": {},
   "outputs": [],
   "source": []
  }
 ],
 "metadata": {
  "kernelspec": {
   "display_name": "Python 3.8.1 32-bit",
   "language": "python",
   "name": "python38132bit23b1fddd62bd4f8ab6b58dac3b5ae4b5"
  },
  "language_info": {
   "codemirror_mode": {
    "name": "ipython",
    "version": 3
   },
   "file_extension": ".py",
   "mimetype": "text/x-python",
   "name": "python",
   "nbconvert_exporter": "python",
   "pygments_lexer": "ipython3",
   "version": "3.8.2"
  }
 },
 "nbformat": 4,
 "nbformat_minor": 4
}
