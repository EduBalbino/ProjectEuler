{
 "cells": [
  {
   "cell_type": "code",
   "execution_count": 10,
   "metadata": {
    "execution": {
     "iopub.execute_input": "2020-05-31T00:24:42.755793Z",
     "iopub.status.busy": "2020-05-31T00:24:42.755793Z",
     "iopub.status.idle": "2020-05-31T00:24:42.768793Z",
     "shell.execute_reply": "2020-05-31T00:24:42.765793Z",
     "shell.execute_reply.started": "2020-05-31T00:24:42.755793Z"
    }
   },
   "outputs": [],
   "source": [
    "def p_063():\n",
    "    summation = 0\n",
    "    for x in range(1, 10):\n",
    "        for y in range(50):\n",
    "            if len(str(a:=x**y)) == y:\n",
    "                summation += 1\n",
    "    return summation"
   ]
  },
  {
   "cell_type": "code",
   "execution_count": 11,
   "metadata": {
    "execution": {
     "iopub.execute_input": "2020-05-31T00:24:42.933803Z",
     "iopub.status.busy": "2020-05-31T00:24:42.933803Z",
     "iopub.status.idle": "2020-05-31T00:24:42.941803Z",
     "shell.execute_reply": "2020-05-31T00:24:42.940803Z",
     "shell.execute_reply.started": "2020-05-31T00:24:42.933803Z"
    }
   },
   "outputs": [
    {
     "name": "stdout",
     "output_type": "stream",
     "text": [
      "49\n"
     ]
    }
   ],
   "source": [
    "print(p_063())"
   ]
  },
  {
   "cell_type": "code",
   "execution_count": null,
   "metadata": {},
   "outputs": [],
   "source": []
  }
 ],
 "metadata": {
  "kernelspec": {
   "display_name": "Python 3.8.1 32-bit",
   "language": "python",
   "name": "python38132bit23b1fddd62bd4f8ab6b58dac3b5ae4b5"
  },
  "language_info": {
   "codemirror_mode": {
    "name": "ipython",
    "version": 3
   },
   "file_extension": ".py",
   "mimetype": "text/x-python",
   "name": "python",
   "nbconvert_exporter": "python",
   "pygments_lexer": "ipython3",
   "version": "3.8.2"
  }
 },
 "nbformat": 4,
 "nbformat_minor": 4
}
