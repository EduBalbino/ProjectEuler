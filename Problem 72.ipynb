{
 "cells": [
  {
   "cell_type": "code",
   "execution_count": 38,
   "metadata": {
    "execution": {
     "iopub.execute_input": "2020-05-31T22:03:47.730144Z",
     "iopub.status.busy": "2020-05-31T22:03:47.729144Z",
     "iopub.status.idle": "2020-05-31T22:03:47.745145Z",
     "shell.execute_reply": "2020-05-31T22:03:47.744145Z",
     "shell.execute_reply.started": "2020-05-31T22:03:47.730144Z"
    }
   },
   "outputs": [],
   "source": [
    "size = 1000000\n",
    "\n",
    "def p_072():\n",
    "    soma = 0\n",
    "    minPair = [100, 100] # Value, n, and totient(n)\n",
    "    listadenumeros = [[] for _ in range(size + 1)]\n",
    "    for x in range(2, size + 1):\n",
    "        if not bool(listadenumeros[x]):\n",
    "            soma += (x - 1)\n",
    "            for k in range(2, size//x + 1):\n",
    "                listadenumeros[x*k].append(x)\n",
    "        else:\n",
    "            numerator = 1\n",
    "            denominator = 1\n",
    "            for prime in listadenumeros[x]:\n",
    "                numerator *= prime\n",
    "                denominator *= (prime - 1)\n",
    "            soma += (d:=(x*denominator)//numerator)\n",
    "    return soma"
   ]
  },
  {
   "cell_type": "code",
   "execution_count": 40,
   "metadata": {
    "execution": {
     "iopub.execute_input": "2020-05-31T22:04:01.906955Z",
     "iopub.status.busy": "2020-05-31T22:04:01.906955Z",
     "iopub.status.idle": "2020-05-31T22:04:05.762176Z",
     "shell.execute_reply": "2020-05-31T22:04:05.761176Z",
     "shell.execute_reply.started": "2020-05-31T22:04:01.906955Z"
    }
   },
   "outputs": [
    {
     "name": "stdout",
     "output_type": "stream",
     "text": [
      "303963552391\n"
     ]
    }
   ],
   "source": [
    "print(p_072())"
   ]
  },
  {
   "cell_type": "code",
   "execution_count": null,
   "metadata": {},
   "outputs": [],
   "source": []
  },
  {
   "cell_type": "code",
   "execution_count": null,
   "metadata": {},
   "outputs": [],
   "source": []
  }
 ],
 "metadata": {
  "kernelspec": {
   "display_name": "Python 3.8.1 32-bit",
   "language": "python",
   "name": "python38132bit23b1fddd62bd4f8ab6b58dac3b5ae4b5"
  },
  "language_info": {
   "codemirror_mode": {
    "name": "ipython",
    "version": 3
   },
   "file_extension": ".py",
   "mimetype": "text/x-python",
   "name": "python",
   "nbconvert_exporter": "python",
   "pygments_lexer": "ipython3",
   "version": "3.8.2"
  }
 },
 "nbformat": 4,
 "nbformat_minor": 4
}
