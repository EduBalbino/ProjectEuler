{
 "cells": [
  {
   "cell_type": "code",
   "execution_count": 21,
   "metadata": {
    "execution": {
     "iopub.execute_input": "2020-04-28T07:47:44.126531Z",
     "iopub.status.busy": "2020-04-28T07:47:44.125530Z",
     "iopub.status.idle": "2020-04-28T07:47:44.134531Z",
     "shell.execute_reply": "2020-04-28T07:47:44.133531Z",
     "shell.execute_reply.started": "2020-04-28T07:47:44.126531Z"
    }
   },
   "outputs": [],
   "source": [
    "import math\n",
    "def p_053():\n",
    "    cont = 0\n",
    "    for n in range(1, 101):\n",
    "        for r in range(1, n):\n",
    "            if (math.factorial(n)/(math.factorial(r) * (math.factorial(n-r)))) > 1000000:\n",
    "                cont += 1\n",
    "    return cont"
   ]
  },
  {
   "cell_type": "code",
   "execution_count": 25,
   "metadata": {
    "execution": {
     "iopub.execute_input": "2020-04-28T07:48:09.108959Z",
     "iopub.status.busy": "2020-04-28T07:48:09.107959Z",
     "iopub.status.idle": "2020-04-28T07:48:38.714653Z",
     "shell.execute_reply": "2020-04-28T07:48:38.713653Z",
     "shell.execute_reply.started": "2020-04-28T07:48:09.108959Z"
    }
   },
   "outputs": [],
   "source": [
    "for x in range(1, 1000):\n",
    "    p_053()"
   ]
  }
 ],
 "metadata": {
  "kernelspec": {
   "display_name": "Python 3.8.1 32-bit",
   "language": "python",
   "name": "python38132bit23b1fddd62bd4f8ab6b58dac3b5ae4b5"
  },
  "language_info": {
   "codemirror_mode": {
    "name": "ipython",
    "version": 3
   },
   "file_extension": ".py",
   "mimetype": "text/x-python",
   "name": "python",
   "nbconvert_exporter": "python",
   "pygments_lexer": "ipython3",
   "version": "3.8.2"
  }
 },
 "nbformat": 4,
 "nbformat_minor": 4
}
