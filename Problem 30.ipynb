{
 "cells": [
  {
   "cell_type": "code",
   "execution_count": 12,
   "metadata": {
    "execution": {
     "iopub.execute_input": "2020-04-21T17:48:58.341671Z",
     "iopub.status.busy": "2020-04-21T17:48:58.341671Z",
     "iopub.status.idle": "2020-04-21T17:48:58.351671Z",
     "shell.execute_reply": "2020-04-21T17:48:58.349671Z",
     "shell.execute_reply.started": "2020-04-21T17:48:58.341671Z"
    }
   },
   "outputs": [],
   "source": [
    "from itertools import *"
   ]
  },
  {
   "cell_type": "code",
   "execution_count": 6,
   "metadata": {
    "execution": {
     "iopub.execute_input": "2020-04-21T17:47:05.831235Z",
     "iopub.status.busy": "2020-04-21T17:47:05.831235Z",
     "iopub.status.idle": "2020-04-21T17:47:05.839236Z",
     "shell.execute_reply": "2020-04-21T17:47:05.837236Z",
     "shell.execute_reply.started": "2020-04-21T17:47:05.831235Z"
    }
   },
   "outputs": [
    {
     "name": "stdout",
     "output_type": "stream",
     "text": [
      "59049\n",
      "413343\n"
     ]
    }
   ],
   "source": [
    "print(9**5)\n",
    "print(9**5 + 9**5 + 9**5 + 9**5 + 9**5 + 9**5)"
   ]
  },
  {
   "cell_type": "code",
   "execution_count": 3,
   "metadata": {
    "execution": {
     "iopub.execute_input": "2020-06-03T23:07:30.351670Z",
     "iopub.status.busy": "2020-06-03T23:07:30.350670Z",
     "iopub.status.idle": "2020-06-03T23:07:30.359670Z",
     "shell.execute_reply": "2020-06-03T23:07:30.358670Z",
     "shell.execute_reply.started": "2020-06-03T23:07:30.350670Z"
    }
   },
   "outputs": [],
   "source": [
    "def p_030():\n",
    "    soma = 0\n",
    "    for x in range(2, 999999):\n",
    "        if sum([int(d)**5 for d in str(x)]) == x:\n",
    "            soma += x\n",
    "    return soma"
   ]
  },
  {
   "cell_type": "code",
   "execution_count": 4,
   "metadata": {
    "execution": {
     "iopub.execute_input": "2020-06-03T23:07:34.608913Z",
     "iopub.status.busy": "2020-06-03T23:07:34.608913Z",
     "iopub.status.idle": "2020-06-03T23:07:41.480306Z",
     "shell.execute_reply": "2020-06-03T23:07:41.479306Z",
     "shell.execute_reply.started": "2020-06-03T23:07:34.608913Z"
    }
   },
   "outputs": [
    {
     "name": "stdout",
     "output_type": "stream",
     "text": [
      "443839\n"
     ]
    }
   ],
   "source": [
    "print(p_030())"
   ]
  },
  {
   "cell_type": "code",
   "execution_count": null,
   "metadata": {},
   "outputs": [],
   "source": []
  }
 ],
 "metadata": {
  "kernelspec": {
   "display_name": "Python 3.8.1 32-bit",
   "language": "python",
   "name": "python38132bit23b1fddd62bd4f8ab6b58dac3b5ae4b5"
  },
  "language_info": {
   "codemirror_mode": {
    "name": "ipython",
    "version": 3
   },
   "file_extension": ".py",
   "mimetype": "text/x-python",
   "name": "python",
   "nbconvert_exporter": "python",
   "pygments_lexer": "ipython3",
   "version": "3.8.2"
  }
 },
 "nbformat": 4,
 "nbformat_minor": 4
}
