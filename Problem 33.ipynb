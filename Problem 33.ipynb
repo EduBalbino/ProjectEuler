{
 "cells": [
  {
   "cell_type": "code",
   "execution_count": 58,
   "metadata": {
    "execution": {
     "iopub.execute_input": "2020-04-23T06:36:33.750658Z",
     "iopub.status.busy": "2020-04-23T06:36:33.750658Z",
     "iopub.status.idle": "2020-04-23T06:36:33.761658Z",
     "shell.execute_reply": "2020-04-23T06:36:33.760658Z",
     "shell.execute_reply.started": "2020-04-23T06:36:33.750658Z"
    }
   },
   "outputs": [],
   "source": [
    "from fractions import Fraction"
   ]
  },
  {
   "cell_type": "code",
   "execution_count": 52,
   "metadata": {
    "execution": {
     "iopub.execute_input": "2020-04-23T06:34:17.116843Z",
     "iopub.status.busy": "2020-04-23T06:34:17.116843Z",
     "iopub.status.idle": "2020-04-23T06:34:17.131843Z",
     "shell.execute_reply": "2020-04-23T06:34:17.128843Z",
     "shell.execute_reply.started": "2020-04-23T06:34:17.116843Z"
    }
   },
   "outputs": [],
   "source": [
    "def remove_and_divide_common(x, y):\n",
    "    if(len(list(frozenset(map(int, str(x))).intersection(frozenset(map(int, str(y)))))) != 0):\n",
    "        a = list(frozenset(map(int, str(x))).intersection(frozenset(map(int, str(y)))))[0] #find common element\n",
    "        xlist, ylist = list(map(int, str(x))), list(map(int, str(y)))\n",
    "        xlist.remove(a); ylist.remove(a)\n",
    "        if ylist[0] != 0:\n",
    "            return xlist[0]/ylist[0]\n",
    "        else:\n",
    "            return 0\n",
    "    else:\n",
    "        return 0"
   ]
  },
  {
   "cell_type": "code",
   "execution_count": 57,
   "metadata": {
    "execution": {
     "iopub.execute_input": "2020-04-23T06:35:27.398862Z",
     "iopub.status.busy": "2020-04-23T06:35:27.397862Z",
     "iopub.status.idle": "2020-04-23T06:35:27.479867Z",
     "shell.execute_reply": "2020-04-23T06:35:27.478867Z",
     "shell.execute_reply.started": "2020-04-23T06:35:27.398862Z"
    }
   },
   "outputs": [
    {
     "name": "stdout",
     "output_type": "stream",
     "text": [
      "16 64\n",
      "19 95\n",
      "26 65\n",
      "49 98\n"
     ]
    }
   ],
   "source": [
    "for x in range(10, 100):\n",
    "    for y in range(10, 100):\n",
    "        if x != y:\n",
    "            if x%10 != 0 and y%10 != 0:\n",
    "                if((a := remove_and_divide_common(x, y)) != 0):\n",
    "                    if(a == x/y):\n",
    "                        if(x/y < 1):\n",
    "                            print(x, y)\n",
    "            "
   ]
  },
  {
   "cell_type": "code",
   "execution_count": 63,
   "metadata": {
    "execution": {
     "iopub.execute_input": "2020-04-23T06:37:25.329608Z",
     "iopub.status.busy": "2020-04-23T06:37:25.328608Z",
     "iopub.status.idle": "2020-04-23T06:37:25.337608Z",
     "shell.execute_reply": "2020-04-23T06:37:25.336608Z",
     "shell.execute_reply.started": "2020-04-23T06:37:25.329608Z"
    }
   },
   "outputs": [
    {
     "data": {
      "text/plain": [
       "Fraction(1, 100)"
      ]
     },
     "execution_count": 63,
     "metadata": {},
     "output_type": "execute_result"
    }
   ],
   "source": [
    "Fraction(16, 64)*Fraction(19, 95)*Fraction(26, 65)*Fraction(49, 98)"
   ]
  },
  {
   "cell_type": "code",
   "execution_count": 39,
   "metadata": {
    "execution": {
     "iopub.execute_input": "2020-04-23T06:27:20.990041Z",
     "iopub.status.busy": "2020-04-23T06:27:20.990041Z",
     "iopub.status.idle": "2020-04-23T06:27:21.002042Z",
     "shell.execute_reply": "2020-04-23T06:27:21.001042Z",
     "shell.execute_reply.started": "2020-04-23T06:27:20.990041Z"
    }
   },
   "outputs": [
    {
     "data": {
      "text/plain": [
       "True"
      ]
     },
     "execution_count": 39,
     "metadata": {},
     "output_type": "execute_result"
    }
   ],
   "source": [
    "remove_and_divide_common(98, 49) == 98/49"
   ]
  },
  {
   "cell_type": "code",
   "execution_count": 43,
   "metadata": {
    "execution": {
     "iopub.execute_input": "2020-04-23T06:32:02.487142Z",
     "iopub.status.busy": "2020-04-23T06:32:02.486142Z",
     "iopub.status.idle": "2020-04-23T06:32:02.502143Z",
     "shell.execute_reply": "2020-04-23T06:32:02.500143Z",
     "shell.execute_reply.started": "2020-04-23T06:32:02.487142Z"
    }
   },
   "outputs": [
    {
     "data": {
      "text/plain": [
       "0"
      ]
     },
     "execution_count": 43,
     "metadata": {},
     "output_type": "execute_result"
    }
   ],
   "source": [
    "len([])"
   ]
  },
  {
   "cell_type": "code",
   "execution_count": null,
   "metadata": {},
   "outputs": [],
   "source": []
  }
 ],
 "metadata": {
  "kernelspec": {
   "display_name": "Python 3",
   "language": "python",
   "name": "python3"
  },
  "language_info": {
   "codemirror_mode": {
    "name": "ipython",
    "version": 3
   },
   "file_extension": ".py",
   "mimetype": "text/x-python",
   "name": "python",
   "nbconvert_exporter": "python",
   "pygments_lexer": "ipython3",
   "version": "3.8.2"
  }
 },
 "nbformat": 4,
 "nbformat_minor": 4
}
