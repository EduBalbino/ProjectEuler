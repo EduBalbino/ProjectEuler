{
 "cells": [
  {
   "cell_type": "code",
   "execution_count": 19,
   "metadata": {
    "execution": {
     "iopub.execute_input": "2020-04-23T23:18:10.342449Z",
     "iopub.status.busy": "2020-04-23T23:18:10.341449Z",
     "iopub.status.idle": "2020-04-23T23:18:10.350449Z",
     "shell.execute_reply": "2020-04-23T23:18:10.349449Z",
     "shell.execute_reply.started": "2020-04-23T23:18:10.341449Z"
    }
   },
   "outputs": [
    {
     "data": {
      "text/plain": [
       "10"
      ]
     },
     "execution_count": 19,
     "metadata": {},
     "output_type": "execute_result"
    }
   ],
   "source": [
    "pentagonal_numbers = [int(x*(3*x - 1)) for x in range(1, 5000) for y in range(y + 1, 5001)]"
   ]
  },
  {
   "cell_type": "code",
   "execution_count": 33,
   "metadata": {
    "execution": {
     "iopub.execute_input": "2020-04-24T19:01:54.431119Z",
     "iopub.status.busy": "2020-04-24T19:01:54.431119Z",
     "iopub.status.idle": "2020-04-24T19:01:54.439120Z",
     "shell.execute_reply": "2020-04-24T19:01:54.438120Z",
     "shell.execute_reply.started": "2020-04-24T19:01:54.431119Z"
    }
   },
   "outputs": [],
   "source": [
    "sum_of_2_pentagonal_numbers = [int(x*(3*x - 1) + (y*(3*y - 1))) for x in range(1, 5000) for y in range(y + 1, 5001)]"
   ]
  },
  {
   "cell_type": "code",
   "execution_count": 55,
   "metadata": {
    "execution": {
     "iopub.execute_input": "2020-04-25T18:10:25.273238Z",
     "iopub.status.busy": "2020-04-25T18:10:25.272238Z",
     "iopub.status.idle": "2020-04-25T18:10:25.829270Z",
     "shell.execute_reply": "2020-04-25T18:10:25.828270Z",
     "shell.execute_reply.started": "2020-04-25T18:10:25.273238Z"
    }
   },
   "outputs": [
    {
     "name": "stdout",
     "output_type": "stream",
     "text": [
      "Project Euler 44 Solution = 5482660\n"
     ]
    }
   ],
   "source": [
    "ps = set()\n",
    "i = 1\n",
    "while True:\n",
    "    i += 1\n",
    "    s = (3*i*i - i) // 2\n",
    "    for Pj in ps:\n",
    "        if s-Pj in ps and s-2*Pj in ps: \n",
    "            print(\"Solution =\", s-2*Pj)\n",
    "    ps.add(s)"
   ]
  },
  {
   "cell_type": "code",
   "execution_count": null,
   "metadata": {},
   "outputs": [],
   "source": []
  }
 ],
 "metadata": {
  "kernelspec": {
   "display_name": "Python 3.8.1 32-bit",
   "language": "python",
   "name": "python38132bit23b1fddd62bd4f8ab6b58dac3b5ae4b5"
  },
  "language_info": {
   "codemirror_mode": {
    "name": "ipython",
    "version": 3
   },
   "file_extension": ".py",
   "mimetype": "text/x-python",
   "name": "python",
   "nbconvert_exporter": "python",
   "pygments_lexer": "ipython3",
   "version": "3.8.2"
  }
 },
 "nbformat": 4,
 "nbformat_minor": 4
}
