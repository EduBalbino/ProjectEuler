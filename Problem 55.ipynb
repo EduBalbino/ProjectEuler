{
 "cells": [
  {
   "cell_type": "code",
   "execution_count": 10,
   "metadata": {
    "execution": {
     "iopub.execute_input": "2020-04-28T08:57:33.571153Z",
     "iopub.status.busy": "2020-04-28T08:57:33.570153Z",
     "iopub.status.idle": "2020-04-28T08:57:33.583154Z",
     "shell.execute_reply": "2020-04-28T08:57:33.582154Z",
     "shell.execute_reply.started": "2020-04-28T08:57:33.571153Z"
    }
   },
   "outputs": [],
   "source": [
    "def p_55():\n",
    "    count = 0\n",
    "    for x in range(1, 10001):\n",
    "        flag = False\n",
    "        a = x\n",
    "        for iterations in range(1, 51):\n",
    "            a = a + int(str(a)[::-1]) #a plus the inverse of a\n",
    "            if a == int(str(a)[::-1]): #is it palidromic?\n",
    "                flag = True # if it is, count it as so.\n",
    "                break\n",
    "        if flag == False:\n",
    "            count += 1\n",
    "    return count"
   ]
  },
  {
   "cell_type": "code",
   "execution_count": 11,
   "metadata": {
    "execution": {
     "iopub.execute_input": "2020-04-28T08:57:33.696160Z",
     "iopub.status.busy": "2020-04-28T08:57:33.695160Z",
     "iopub.status.idle": "2020-04-28T08:57:33.885171Z",
     "shell.execute_reply": "2020-04-28T08:57:33.884171Z",
     "shell.execute_reply.started": "2020-04-28T08:57:33.696160Z"
    }
   },
   "outputs": [
    {
     "name": "stdout",
     "output_type": "stream",
     "text": [
      "249\n"
     ]
    }
   ],
   "source": [
    "print(p_55())"
   ]
  },
  {
   "cell_type": "code",
   "execution_count": null,
   "metadata": {},
   "outputs": [],
   "source": []
  },
  {
   "cell_type": "code",
   "execution_count": null,
   "metadata": {},
   "outputs": [],
   "source": []
  }
 ],
 "metadata": {
  "kernelspec": {
   "display_name": "Python 3.8.1 32-bit",
   "language": "python",
   "name": "python38132bit23b1fddd62bd4f8ab6b58dac3b5ae4b5"
  },
  "language_info": {
   "codemirror_mode": {
    "name": "ipython",
    "version": 3
   },
   "file_extension": ".py",
   "mimetype": "text/x-python",
   "name": "python",
   "nbconvert_exporter": "python",
   "pygments_lexer": "ipython3",
   "version": "3.8.2"
  }
 },
 "nbformat": 4,
 "nbformat_minor": 4
}
