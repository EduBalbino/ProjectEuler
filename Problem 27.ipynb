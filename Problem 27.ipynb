{
 "cells": [
  {
   "cell_type": "code",
   "execution_count": 29,
   "metadata": {
    "execution": {
     "iopub.execute_input": "2020-04-21T17:38:38.663227Z",
     "iopub.status.busy": "2020-04-21T17:38:38.663227Z",
     "iopub.status.idle": "2020-04-21T17:38:38.673228Z",
     "shell.execute_reply": "2020-04-21T17:38:38.671228Z",
     "shell.execute_reply.started": "2020-04-21T17:38:38.663227Z"
    }
   },
   "outputs": [],
   "source": [
    "def is_prime(n):\n",
    "    \"\"\"\"pre-condition: n is a nonnegative integer\n",
    "    post-condition: return True if n is prime and False otherwise.\"\"\"\n",
    "    if n < 2: \n",
    "         return False;\n",
    "    if n % 2 == 0:             \n",
    "         return n == 2  # return False\n",
    "    k = 3\n",
    "    while k*k <= n:\n",
    "         if n % k == 0:\n",
    "             return False\n",
    "         k += 2\n",
    "    return True"
   ]
  },
  {
   "cell_type": "code",
   "execution_count": 39,
   "metadata": {
    "execution": {
     "iopub.execute_input": "2020-04-21T17:42:47.131439Z",
     "iopub.status.busy": "2020-04-21T17:42:47.131439Z",
     "iopub.status.idle": "2020-04-21T17:42:55.146897Z",
     "shell.execute_reply": "2020-04-21T17:42:55.145897Z",
     "shell.execute_reply.started": "2020-04-21T17:42:47.131439Z"
    }
   },
   "outputs": [],
   "source": [
    "equation_list = [[]]\n",
    "for a in range(-999, 1000):\n",
    "    for b in range(-1000, 1001):\n",
    "        cont = 0\n",
    "        flag = 1\n",
    "        while is_prime(cont**2 + a*cont + b):\n",
    "            cont += 1\n",
    "        if cont > 39:\n",
    "            equation_list.append([a, b, cont])"
   ]
  },
  {
   "cell_type": "code",
   "execution_count": 46,
   "metadata": {
    "execution": {
     "iopub.execute_input": "2020-04-21T17:44:55.800798Z",
     "iopub.status.busy": "2020-04-21T17:44:55.799798Z",
     "iopub.status.idle": "2020-04-21T17:44:55.813799Z",
     "shell.execute_reply": "2020-04-21T17:44:55.812799Z",
     "shell.execute_reply.started": "2020-04-21T17:44:55.800798Z"
    }
   },
   "outputs": [
    {
     "data": {
      "text/plain": [
       "-59231"
      ]
     },
     "execution_count": 46,
     "metadata": {},
     "output_type": "execute_result"
    }
   ],
   "source": [
    "equation_list[1][0] * equation_list[1][1]\n"
   ]
  },
  {
   "cell_type": "code",
   "execution_count": 31,
   "metadata": {
    "execution": {
     "iopub.execute_input": "2020-04-21T17:39:55.845642Z",
     "iopub.status.busy": "2020-04-21T17:39:55.845642Z",
     "iopub.status.idle": "2020-04-21T17:39:55.857642Z",
     "shell.execute_reply": "2020-04-21T17:39:55.856642Z",
     "shell.execute_reply.started": "2020-04-21T17:39:55.845642Z"
    }
   },
   "outputs": [],
   "source": [
    "primes = []\n",
    "for cont in range(80):\n",
    "    primes.append(cont**2 - 79*cont + 1601)"
   ]
  },
  {
   "cell_type": "code",
   "execution_count": 32,
   "metadata": {
    "execution": {
     "iopub.execute_input": "2020-04-21T17:39:56.183661Z",
     "iopub.status.busy": "2020-04-21T17:39:56.182661Z",
     "iopub.status.idle": "2020-04-21T17:39:56.198662Z",
     "shell.execute_reply": "2020-04-21T17:39:56.197662Z",
     "shell.execute_reply.started": "2020-04-21T17:39:56.183661Z"
    }
   },
   "outputs": [
    {
     "name": "stdout",
     "output_type": "stream",
     "text": [
      "[1601, 1523, 1447, 1373, 1301, 1231, 1163, 1097, 1033, 971, 911, 853, 797, 743, 691, 641, 593, 547, 503, 461, 421, 383, 347, 313, 281, 251, 223, 197, 173, 151, 131, 113, 97, 83, 71, 61, 53, 47, 43, 41, 41, 43, 47, 53, 61, 71, 83, 97, 113, 131, 151, 173, 197, 223, 251, 281, 313, 347, 383, 421, 461, 503, 547, 593, 641, 691, 743, 797, 853, 911, 971, 1033, 1097, 1163, 1231, 1301, 1373, 1447, 1523, 1601]\n",
      "True\n",
      "True\n",
      "True\n",
      "True\n",
      "True\n",
      "True\n",
      "True\n",
      "True\n",
      "True\n",
      "True\n",
      "True\n",
      "True\n",
      "True\n",
      "True\n",
      "True\n",
      "True\n",
      "True\n",
      "True\n",
      "True\n",
      "True\n",
      "True\n",
      "True\n",
      "True\n",
      "True\n",
      "True\n",
      "True\n",
      "True\n",
      "True\n",
      "True\n",
      "True\n",
      "True\n",
      "True\n",
      "True\n",
      "True\n",
      "True\n",
      "True\n",
      "True\n",
      "True\n",
      "True\n",
      "True\n",
      "True\n",
      "True\n",
      "True\n",
      "True\n",
      "True\n",
      "True\n",
      "True\n",
      "True\n",
      "True\n",
      "True\n",
      "True\n",
      "True\n",
      "True\n",
      "True\n",
      "True\n",
      "True\n",
      "True\n",
      "True\n",
      "True\n",
      "True\n",
      "True\n",
      "True\n",
      "True\n",
      "True\n",
      "True\n",
      "True\n",
      "True\n",
      "True\n",
      "True\n",
      "True\n",
      "True\n",
      "True\n",
      "True\n",
      "True\n",
      "True\n",
      "True\n",
      "True\n",
      "True\n",
      "True\n",
      "True\n"
     ]
    }
   ],
   "source": [
    "print(primes)\n",
    "for x in primes:\n",
    "    print(is_prime(x))"
   ]
  },
  {
   "cell_type": "code",
   "execution_count": null,
   "metadata": {},
   "outputs": [],
   "source": []
  }
 ],
 "metadata": {
  "kernelspec": {
   "display_name": "Python 3.8.1 32-bit",
   "language": "python",
   "name": "python38132bit23b1fddd62bd4f8ab6b58dac3b5ae4b5"
  },
  "language_info": {
   "codemirror_mode": {
    "name": "ipython",
    "version": 3
   },
   "file_extension": ".py",
   "mimetype": "text/x-python",
   "name": "python",
   "nbconvert_exporter": "python",
   "pygments_lexer": "ipython3",
   "version": "3.8.2"
  }
 },
 "nbformat": 4,
 "nbformat_minor": 4
}
