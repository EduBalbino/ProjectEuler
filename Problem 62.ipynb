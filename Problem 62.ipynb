{
 "cells": [
  {
   "cell_type": "code",
   "execution_count": 1,
   "metadata": {
    "execution": {
     "iopub.execute_input": "2020-05-25T15:58:04.141726Z",
     "iopub.status.busy": "2020-05-25T15:58:04.140726Z",
     "iopub.status.idle": "2020-05-25T15:58:04.161727Z",
     "shell.execute_reply": "2020-05-25T15:58:04.160727Z",
     "shell.execute_reply.started": "2020-05-25T15:58:04.141726Z"
    }
   },
   "outputs": [],
   "source": [
    "listacubo = []\n",
    "for x in range(10000):\n",
    "    listacubo.append(x**3)\n",
    "def p_062():\n",
    "    ordered = []\n",
    "    for numero in listacubo:\n",
    "        ordered.append(\"\".join(sorted(str(numero))))\n",
    "    for i in ordered:\n",
    "        if ordered.count(i) == 5:\n",
    "            return ordered.index(i)**3"
   ]
  },
  {
   "cell_type": "code",
   "execution_count": 2,
   "metadata": {
    "execution": {
     "iopub.execute_input": "2020-05-25T15:58:04.359739Z",
     "iopub.status.busy": "2020-05-25T15:58:04.358739Z",
     "iopub.status.idle": "2020-05-25T15:58:06.143841Z",
     "shell.execute_reply": "2020-05-25T15:58:06.142841Z",
     "shell.execute_reply.started": "2020-05-25T15:58:04.358739Z"
    }
   },
   "outputs": [
    {
     "name": "stdout",
     "output_type": "stream",
     "text": [
      "127035954683\n"
     ]
    }
   ],
   "source": [
    "print(p_062())"
   ]
  },
  {
   "cell_type": "code",
   "execution_count": null,
   "metadata": {},
   "outputs": [],
   "source": []
  }
 ],
 "metadata": {
  "kernelspec": {
   "display_name": "Python 3.8.1 32-bit",
   "language": "python",
   "name": "python38132bit23b1fddd62bd4f8ab6b58dac3b5ae4b5"
  },
  "language_info": {
   "codemirror_mode": {
    "name": "ipython",
    "version": 3
   },
   "file_extension": ".py",
   "mimetype": "text/x-python",
   "name": "python",
   "nbconvert_exporter": "python",
   "pygments_lexer": "ipython3",
   "version": "3.8.2"
  }
 },
 "nbformat": 4,
 "nbformat_minor": 4
}
