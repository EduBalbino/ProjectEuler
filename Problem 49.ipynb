{
 "cells": [
  {
   "cell_type": "code",
   "execution_count": 1,
   "metadata": {
    "execution": {
     "iopub.execute_input": "2020-04-26T07:16:40.750174Z",
     "iopub.status.busy": "2020-04-26T07:16:40.749174Z",
     "iopub.status.idle": "2020-04-26T07:16:40.807178Z",
     "shell.execute_reply": "2020-04-26T07:16:40.804178Z",
     "shell.execute_reply.started": "2020-04-26T07:16:40.750174Z"
    }
   },
   "outputs": [],
   "source": [
    "import itertools\n",
    "\n",
    "def is_prime(n):\n",
    "    if n < 2: \n",
    "         return False;\n",
    "    if n % 2 == 0:             \n",
    "         return n == 2  # return False\n",
    "    k = 3\n",
    "    while k*k <= n:\n",
    "         if n % k == 0:\n",
    "            return False\n",
    "         k += 2\n",
    "    return True\n",
    "\n",
    "primos = {x for x in range(1000, 10001) if is_prime(x)}\n",
    "\n",
    "def prime_permutations(x):\n",
    "    conjunto = [x]\n",
    "    for i in sorted(itertools.permutations(str(x))):\n",
    "        if len(str(a:=int(''.join(i)))) >= 4:\n",
    "            if a in primos and a not in conjunto:\n",
    "                conjunto.append(a)\n",
    "    return tuple(sorted(conjunto))"
   ]
  },
  {
   "cell_type": "code",
   "execution_count": 4,
   "metadata": {
    "execution": {
     "iopub.execute_input": "2020-04-26T07:27:28.883246Z",
     "iopub.status.busy": "2020-04-26T07:27:28.882245Z",
     "iopub.status.idle": "2020-04-26T07:27:28.966250Z",
     "shell.execute_reply": "2020-04-26T07:27:28.964250Z",
     "shell.execute_reply.started": "2020-04-26T07:27:28.883246Z"
    }
   },
   "outputs": [],
   "source": [
    "conjunto_especial = set()\n",
    "for x in primos:\n",
    "    if (a := prime_permutations(x)) not in conjunto_especial and ((len(a) >= 4)):\n",
    "        conjunto_especial.add(a)\n",
    "        \n",
    "lista_especial = sorted([list(x) for x in conjunto_especial])"
   ]
  },
  {
   "cell_type": "code",
   "execution_count": 101,
   "metadata": {
    "execution": {
     "iopub.execute_input": "2020-04-26T18:24:04.758380Z",
     "iopub.status.busy": "2020-04-26T18:24:04.757380Z",
     "iopub.status.idle": "2020-04-26T18:24:04.778381Z",
     "shell.execute_reply": "2020-04-26T18:24:04.777381Z",
     "shell.execute_reply.started": "2020-04-26T18:24:04.758380Z"
    }
   },
   "outputs": [
    {
     "name": "stdout",
     "output_type": "stream",
     "text": [
      "[1487, 1847, 4817, 4871, 7481, 7841, 8147, 8741]\n",
      "[2699, 2969, 6299, 9629]\n"
     ]
    }
   ],
   "source": [
    "for x in range(len(lista_especial)):\n",
    "    for y1 in range(a:=len(lista_especial[x])):\n",
    "        for y2 in range(len(lista_especial[x][:y1 + 1]), a):\n",
    "            if (lista_especial[x][y1] + 2*(dif := lista_especial[x][y2] - lista_especial[x][y1])) in lista_especial[x]:\n",
    "                if lista_especial[x][y1] + 3*dif:\n",
    "                    print(lista_especial[x])"
   ]
  }
 ],
 "metadata": {
  "kernelspec": {
   "display_name": "Python 3.8.1 32-bit",
   "language": "python",
   "name": "python38132bit23b1fddd62bd4f8ab6b58dac3b5ae4b5"
  },
  "language_info": {
   "codemirror_mode": {
    "name": "ipython",
    "version": 3
   },
   "file_extension": ".py",
   "mimetype": "text/x-python",
   "name": "python",
   "nbconvert_exporter": "python",
   "pygments_lexer": "ipython3",
   "version": "3.8.2"
  }
 },
 "nbformat": 4,
 "nbformat_minor": 4
}
