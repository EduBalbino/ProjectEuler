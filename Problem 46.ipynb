{
 "cells": [
  {
   "cell_type": "code",
   "execution_count": 1,
   "metadata": {
    "execution": {
     "iopub.execute_input": "2020-04-25T18:46:55.212496Z",
     "iopub.status.busy": "2020-04-25T18:46:55.211495Z",
     "iopub.status.idle": "2020-04-25T18:46:55.232497Z",
     "shell.execute_reply": "2020-04-25T18:46:55.230497Z",
     "shell.execute_reply.started": "2020-04-25T18:46:55.212496Z"
    }
   },
   "outputs": [],
   "source": [
    "def is_prime(n):\n",
    "    if n < 2: \n",
    "         return False;\n",
    "    if n % 2 == 0:             \n",
    "         return n == 2  # return False\n",
    "    k = 3\n",
    "    while k*k <= n:\n",
    "         if n % k == 0:\n",
    "            return False\n",
    "         k += 2\n",
    "    return True"
   ]
  },
  {
   "cell_type": "code",
   "execution_count": 45,
   "metadata": {
    "execution": {
     "iopub.execute_input": "2020-04-25T23:27:57.113689Z",
     "iopub.status.busy": "2020-04-25T23:27:57.112689Z",
     "iopub.status.idle": "2020-04-25T23:27:58.348760Z",
     "shell.execute_reply": "2020-04-25T23:27:58.347760Z",
     "shell.execute_reply.started": "2020-04-25T23:27:57.113689Z"
    }
   },
   "outputs": [],
   "source": [
    "n = 100000\n",
    "composites = [x for x in range(1, n, 2) if not is_prime(x)]\n",
    "primes = [x for x in range(1, n, 2) if is_prime(x)]\n",
    "double_squares = {2*x*x for x in range(1, n)}"
   ]
  },
  {
   "cell_type": "code",
   "execution_count": 46,
   "metadata": {
    "execution": {
     "iopub.execute_input": "2020-04-25T23:27:58.351760Z",
     "iopub.status.busy": "2020-04-25T23:27:58.350760Z",
     "iopub.status.idle": "2020-04-25T23:27:58.473767Z",
     "shell.execute_reply": "2020-04-25T23:27:58.464767Z",
     "shell.execute_reply.started": "2020-04-25T23:27:58.351760Z"
    }
   },
   "outputs": [
    {
     "name": "stdout",
     "output_type": "stream",
     "text": [
      "5777\n"
     ]
    }
   ],
   "source": [
    "for num in composites:\n",
    "    composito_valido_para_resposta = False\n",
    "    for primo in primes:\n",
    "        if primo > num:\n",
    "            break\n",
    "        if num - primo in double_squares:\n",
    "            composito_valido_para_resposta = False\n",
    "            break\n",
    "        else:\n",
    "            composito_valido_para_resposta = True\n",
    "    if composito_valido_para_resposta == True:\n",
    "        print(num)\n",
    "        break"
   ]
  },
  {
   "cell_type": "code",
   "execution_count": null,
   "metadata": {},
   "outputs": [],
   "source": []
  }
 ],
 "metadata": {
  "kernelspec": {
   "display_name": "Python 3.8.1 32-bit",
   "language": "python",
   "name": "python38132bit23b1fddd62bd4f8ab6b58dac3b5ae4b5"
  },
  "language_info": {
   "codemirror_mode": {
    "name": "ipython",
    "version": 3
   },
   "file_extension": ".py",
   "mimetype": "text/x-python",
   "name": "python",
   "nbconvert_exporter": "python",
   "pygments_lexer": "ipython3",
   "version": "3.8.2"
  }
 },
 "nbformat": 4,
 "nbformat_minor": 4
}
