{
 "cells": [
  {
   "cell_type": "code",
   "execution_count": 5,
   "metadata": {
    "execution": {
     "iopub.execute_input": "2020-04-23T22:00:26.185674Z",
     "iopub.status.busy": "2020-04-23T22:00:26.185674Z",
     "iopub.status.idle": "2020-04-23T22:00:26.191675Z",
     "shell.execute_reply": "2020-04-23T22:00:26.189675Z",
     "shell.execute_reply.started": "2020-04-23T22:00:26.185674Z"
    }
   },
   "outputs": [],
   "source": [
    "import math"
   ]
  },
  {
   "cell_type": "code",
   "execution_count": 37,
   "metadata": {
    "execution": {
     "iopub.execute_input": "2020-04-23T22:03:52.019447Z",
     "iopub.status.busy": "2020-04-23T22:03:52.018447Z",
     "iopub.status.idle": "2020-04-23T22:03:52.236460Z",
     "shell.execute_reply": "2020-04-23T22:03:52.235460Z",
     "shell.execute_reply.started": "2020-04-23T22:03:52.019447Z"
    }
   },
   "outputs": [
    {
     "name": "stdout",
     "output_type": "stream",
     "text": [
      "1016889\n"
     ]
    }
   ],
   "source": [
    "soma = 0\n",
    "for x in range(1, 188000):\n",
    "    soma += int(math.log10(x)) + 1\n",
    "print(soma)"
   ]
  },
  {
   "cell_type": "code",
   "execution_count": 57,
   "metadata": {
    "execution": {
     "iopub.execute_input": "2020-04-23T22:09:38.103242Z",
     "iopub.status.busy": "2020-04-23T22:09:38.103242Z",
     "iopub.status.idle": "2020-04-23T22:09:38.772281Z",
     "shell.execute_reply": "2020-04-23T22:09:38.771281Z",
     "shell.execute_reply.started": "2020-04-23T22:09:38.103242Z"
    }
   },
   "outputs": [],
   "source": [
    "produto = 1\n",
    "noves = 999999\n",
    "for x in range(6):\n",
    "    produto *= int(''.join(map(str, [x for x in range(1, 188000)]))[int(str(noves)[x:])])"
   ]
  },
  {
   "cell_type": "code",
   "execution_count": 58,
   "metadata": {
    "execution": {
     "iopub.execute_input": "2020-04-23T22:09:38.876287Z",
     "iopub.status.busy": "2020-04-23T22:09:38.875286Z",
     "iopub.status.idle": "2020-04-23T22:09:38.886287Z",
     "shell.execute_reply": "2020-04-23T22:09:38.884287Z",
     "shell.execute_reply.started": "2020-04-23T22:09:38.875286Z"
    }
   },
   "outputs": [
    {
     "data": {
      "text/plain": [
       "210"
      ]
     },
     "execution_count": 58,
     "metadata": {},
     "output_type": "execute_result"
    }
   ],
   "source": [
    "produto"
   ]
  }
 ],
 "metadata": {
  "kernelspec": {
   "display_name": "Python 3.8.1 32-bit",
   "language": "python",
   "name": "python38132bit23b1fddd62bd4f8ab6b58dac3b5ae4b5"
  },
  "language_info": {
   "codemirror_mode": {
    "name": "ipython",
    "version": 3
   },
   "file_extension": ".py",
   "mimetype": "text/x-python",
   "name": "python",
   "nbconvert_exporter": "python",
   "pygments_lexer": "ipython3",
   "version": "3.8.2"
  }
 },
 "nbformat": 4,
 "nbformat_minor": 4
}
