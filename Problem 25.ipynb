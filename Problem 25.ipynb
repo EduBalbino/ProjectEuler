{
 "cells": [
  {
   "cell_type": "code",
   "execution_count": 7,
   "metadata": {
    "execution": {
     "iopub.execute_input": "2020-08-12T17:43:33.708459Z",
     "iopub.status.busy": "2020-08-12T17:43:33.708459Z",
     "iopub.status.idle": "2020-08-12T17:43:34.013507Z",
     "shell.execute_reply": "2020-08-12T17:43:34.011508Z",
     "shell.execute_reply.started": "2020-08-12T17:43:33.708459Z"
    }
   },
   "outputs": [
    {
     "name": "stdout",
     "output_type": "stream",
     "text": [
      "4782\n"
     ]
    }
   ],
   "source": [
    "n = 3\n",
    "fiblist = [0, 1, 1, 2]\n",
    "while True:\n",
    "    fiblist.append(fiblist[n] + fiblist[n - 1])\n",
    "    if len(str(fiblist[n])) == 1000:\n",
    "        print(n)\n",
    "        break\n",
    "    n = n + 1"
   ]
  },
  {
   "cell_type": "code",
   "execution_count": 8,
   "metadata": {
    "execution": {
     "iopub.execute_input": "2020-08-12T17:43:36.122662Z",
     "iopub.status.busy": "2020-08-12T17:43:36.121662Z",
     "iopub.status.idle": "2020-08-12T17:43:36.130656Z",
     "shell.execute_reply": "2020-08-12T17:43:36.129657Z",
     "shell.execute_reply.started": "2020-08-12T17:43:36.122662Z"
    }
   },
   "outputs": [
    {
     "data": {
      "text/plain": [
       "1070066266382758936764980584457396885083683896632151665013235203375314520604694040621889147582489792657804694888177591957484336466672569959512996030461262748092482186144069433051234774442750273781753087579391666192149259186759553966422837148943113074699503439547001985432609723067290192870526447243726117715821825548491120525013201478612965931381792235559657452039506137551467837543229119602129934048260706175397706847068202895486902666185435124521900369480641357447470911707619766945691070098024393439617474103736912503231365532164773697023167755051595173518460579954919410967778373229665796581646513903488154256310184224190259846088000110186255550245493937113651657039447629584714548523425950428582425306083544435428212611008992863795048006894330309773217834864543113205765659868456288616808718693835297350643986297640660000723562917905207051164077614812491885830945940566688339109350944456576357666151619317753792891661581327159616877487983821820492520348473874384736771934512787029218636250627816"
      ]
     },
     "execution_count": 8,
     "metadata": {},
     "output_type": "execute_result"
    }
   ],
   "source": [
    "fiblist[n]"
   ]
  },
  {
   "cell_type": "code",
   "execution_count": 29,
   "metadata": {
    "execution": {
     "iopub.execute_input": "2020-04-20T18:45:40.279880Z",
     "iopub.status.busy": "2020-04-20T18:45:40.279880Z",
     "iopub.status.idle": "2020-04-20T18:45:40.290881Z",
     "shell.execute_reply": "2020-04-20T18:45:40.289881Z",
     "shell.execute_reply.started": "2020-04-20T18:45:40.279880Z"
    }
   },
   "outputs": [
    {
     "data": {
      "text/plain": [
       "29"
      ]
     },
     "execution_count": 29,
     "metadata": {},
     "output_type": "execute_result"
    }
   ],
   "source": [
    "len(str(81055900096023504197206408605))"
   ]
  },
  {
   "cell_type": "code",
   "execution_count": null,
   "metadata": {},
   "outputs": [],
   "source": []
  }
 ],
 "metadata": {
  "kernelspec": {
   "display_name": "Python 3",
   "language": "python",
   "name": "python3"
  },
  "language_info": {
   "codemirror_mode": {
    "name": "ipython",
    "version": 3
   },
   "file_extension": ".py",
   "mimetype": "text/x-python",
   "name": "python",
   "nbconvert_exporter": "python",
   "pygments_lexer": "ipython3",
   "version": "3.8.4"
  }
 },
 "nbformat": 4,
 "nbformat_minor": 4
}
