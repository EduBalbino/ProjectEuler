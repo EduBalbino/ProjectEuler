{
 "cells": [
  {
   "cell_type": "code",
   "execution_count": 60,
   "metadata": {
    "execution": {
     "iopub.execute_input": "2020-04-23T21:55:51.810981Z",
     "iopub.status.busy": "2020-04-23T21:55:51.808981Z",
     "iopub.status.idle": "2020-04-23T21:56:07.279866Z",
     "shell.execute_reply": "2020-04-23T21:56:07.278866Z",
     "shell.execute_reply.started": "2020-04-23T21:55:51.810981Z"
    }
   },
   "outputs": [],
   "source": [
    "solutionlist = [0 for x in range(1001)]\n",
    "squaredlookup = [x*x for x in range(1001)]\n",
    "rootlookup = []\n",
    "for a in range(1, 1001):\n",
    "    for b in range(a, 1001):\n",
    "        if (sum_squared:=squaredlookup[a] + squaredlookup[b]) in squaredlookup:\n",
    "            if (total_sum:=squaredlookup.index(sum_squared) + a + b) < 1000:\n",
    "                solutionlist[total_sum] += 1"
   ]
  },
  {
   "cell_type": "code",
   "execution_count": 61,
   "metadata": {
    "execution": {
     "iopub.execute_input": "2020-04-23T21:56:08.806953Z",
     "iopub.status.busy": "2020-04-23T21:56:08.806953Z",
     "iopub.status.idle": "2020-04-23T21:56:08.820954Z",
     "shell.execute_reply": "2020-04-23T21:56:08.819954Z",
     "shell.execute_reply.started": "2020-04-23T21:56:08.806953Z"
    }
   },
   "outputs": [
    {
     "data": {
      "text/plain": [
       "840"
      ]
     },
     "execution_count": 61,
     "metadata": {},
     "output_type": "execute_result"
    }
   ],
   "source": [
    "solutionlist.index(max(solutionlist))"
   ]
  },
  {
   "cell_type": "code",
   "execution_count": null,
   "metadata": {},
   "outputs": [],
   "source": []
  }
 ],
 "metadata": {
  "kernelspec": {
   "display_name": "Python 3.8.1 32-bit",
   "language": "python",
   "name": "python38132bit23b1fddd62bd4f8ab6b58dac3b5ae4b5"
  },
  "language_info": {
   "codemirror_mode": {
    "name": "ipython",
    "version": 3
   },
   "file_extension": ".py",
   "mimetype": "text/x-python",
   "name": "python",
   "nbconvert_exporter": "python",
   "pygments_lexer": "ipython3",
   "version": "3.8.2"
  }
 },
 "nbformat": 4,
 "nbformat_minor": 4
}
