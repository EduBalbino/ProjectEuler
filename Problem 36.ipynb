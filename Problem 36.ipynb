{
 "cells": [
  {
   "cell_type": "code",
   "execution_count": 11,
   "metadata": {
    "execution": {
     "iopub.execute_input": "2020-04-23T07:32:12.470621Z",
     "iopub.status.busy": "2020-04-23T07:32:12.469621Z",
     "iopub.status.idle": "2020-04-23T07:32:12.478622Z",
     "shell.execute_reply": "2020-04-23T07:32:12.477622Z",
     "shell.execute_reply.started": "2020-04-23T07:32:12.469621Z"
    }
   },
   "outputs": [
    {
     "data": {
      "text/plain": [
       "['1',\n",
       " '0',\n",
       " '1',\n",
       " '1',\n",
       " '0',\n",
       " '0',\n",
       " '0',\n",
       " '0',\n",
       " '0',\n",
       " '1',\n",
       " '1',\n",
       " '0',\n",
       " '1',\n",
       " '1',\n",
       " '1',\n",
       " '0',\n",
       " '0']"
      ]
     },
     "execution_count": 11,
     "metadata": {},
     "output_type": "execute_result"
    }
   ],
   "source": [
    "list(bin(90332))[2:]"
   ]
  },
  {
   "cell_type": "code",
   "execution_count": 21,
   "metadata": {
    "execution": {
     "iopub.execute_input": "2020-04-23T07:33:41.152694Z",
     "iopub.status.busy": "2020-04-23T07:33:41.152694Z",
     "iopub.status.idle": "2020-04-23T07:33:43.397822Z",
     "shell.execute_reply": "2020-04-23T07:33:43.396822Z",
     "shell.execute_reply.started": "2020-04-23T07:33:41.152694Z"
    }
   },
   "outputs": [
    {
     "name": "stdout",
     "output_type": "stream",
     "text": [
      "0\n",
      "1\n",
      "3\n",
      "5\n",
      "7\n",
      "9\n",
      "33\n",
      "99\n",
      "313\n",
      "585\n",
      "717\n",
      "7447\n",
      "9009\n",
      "15351\n",
      "32223\n",
      "39993\n",
      "53235\n",
      "53835\n",
      "73737\n",
      "585585\n"
     ]
    }
   ],
   "source": [
    "\n",
    "for x in range(1000000):\n",
    "    if (list(a:=str(x)) == list(reversed(a))) and ((b:=list(bin(x))[2:]) == list(reversed(b))):\n",
    "        print(x)"
   ]
  },
  {
   "cell_type": "code",
   "execution_count": 13,
   "metadata": {
    "execution": {
     "iopub.execute_input": "2020-04-23T07:32:34.464879Z",
     "iopub.status.busy": "2020-04-23T07:32:34.463879Z",
     "iopub.status.idle": "2020-04-23T07:32:34.473880Z",
     "shell.execute_reply": "2020-04-23T07:32:34.471880Z",
     "shell.execute_reply.started": "2020-04-23T07:32:34.463879Z"
    }
   },
   "outputs": [
    {
     "data": {
      "text/plain": [
       "False"
      ]
     },
     "execution_count": 13,
     "metadata": {},
     "output_type": "execute_result"
    }
   ],
   "source": [
    "list(a:=str(x)) == reversed(a) and (b:=bin(x)) == reversed(b)"
   ]
  },
  {
   "cell_type": "code",
   "execution_count": 17,
   "metadata": {
    "execution": {
     "iopub.execute_input": "2020-04-23T07:32:59.005283Z",
     "iopub.status.busy": "2020-04-23T07:32:59.005283Z",
     "iopub.status.idle": "2020-04-23T07:32:59.019284Z",
     "shell.execute_reply": "2020-04-23T07:32:59.018284Z",
     "shell.execute_reply.started": "2020-04-23T07:32:59.005283Z"
    }
   },
   "outputs": [
    {
     "data": {
      "text/plain": [
       "False"
      ]
     },
     "execution_count": 17,
     "metadata": {},
     "output_type": "execute_result"
    }
   ],
   "source": [
    "(c:=list(bin(585))[2:]) == reversed(c)"
   ]
  },
  {
   "cell_type": "code",
   "execution_count": 18,
   "metadata": {
    "execution": {
     "iopub.execute_input": "2020-04-23T07:33:04.845617Z",
     "iopub.status.busy": "2020-04-23T07:33:04.845617Z",
     "iopub.status.idle": "2020-04-23T07:33:04.858618Z",
     "shell.execute_reply": "2020-04-23T07:33:04.857618Z",
     "shell.execute_reply.started": "2020-04-23T07:33:04.845617Z"
    }
   },
   "outputs": [
    {
     "data": {
      "text/plain": [
       "['1', '0', '0', '1', '0', '0', '1', '0', '0', '1']"
      ]
     },
     "execution_count": 18,
     "metadata": {},
     "output_type": "execute_result"
    }
   ],
   "source": [
    "c"
   ]
  },
  {
   "cell_type": "code",
   "execution_count": 20,
   "metadata": {
    "execution": {
     "iopub.execute_input": "2020-04-23T07:33:15.619233Z",
     "iopub.status.busy": "2020-04-23T07:33:15.618233Z",
     "iopub.status.idle": "2020-04-23T07:33:15.629234Z",
     "shell.execute_reply": "2020-04-23T07:33:15.627234Z",
     "shell.execute_reply.started": "2020-04-23T07:33:15.619233Z"
    }
   },
   "outputs": [
    {
     "data": {
      "text/plain": [
       "['1', '0', '0', '1', '0', '0', '1', '0', '0', '1']"
      ]
     },
     "execution_count": 20,
     "metadata": {},
     "output_type": "execute_result"
    }
   ],
   "source": [
    "list(reversed(c))"
   ]
  },
  {
   "cell_type": "code",
   "execution_count": null,
   "metadata": {},
   "outputs": [],
   "source": []
  }
 ],
 "metadata": {
  "kernelspec": {
   "display_name": "Python 3.8.1 32-bit",
   "language": "python",
   "name": "python38132bit23b1fddd62bd4f8ab6b58dac3b5ae4b5"
  },
  "language_info": {
   "codemirror_mode": {
    "name": "ipython",
    "version": 3
   },
   "file_extension": ".py",
   "mimetype": "text/x-python",
   "name": "python",
   "nbconvert_exporter": "python",
   "pygments_lexer": "ipython3",
   "version": "3.8.2"
  }
 },
 "nbformat": 4,
 "nbformat_minor": 4
}
