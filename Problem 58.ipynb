{
 "cells": [
  {
   "cell_type": "code",
   "execution_count": 3,
   "metadata": {
    "execution": {
     "iopub.execute_input": "2020-04-29T00:57:10.288119Z",
     "iopub.status.busy": "2020-04-29T00:57:10.287119Z",
     "iopub.status.idle": "2020-04-29T00:57:10.297119Z",
     "shell.execute_reply": "2020-04-29T00:57:10.295119Z",
     "shell.execute_reply.started": "2020-04-29T00:57:10.288119Z"
    }
   },
   "outputs": [],
   "source": [
    "def is_prime(n):\n",
    "    if n < 2: \n",
    "         return False;\n",
    "    if n % 2 == 0:             \n",
    "         return n == 2  # return False\n",
    "    k = 3\n",
    "    while k*k <= n:\n",
    "         if n % k == 0:\n",
    "            return False\n",
    "         k += 2\n",
    "    return True"
   ]
  },
  {
   "cell_type": "code",
   "execution_count": 18,
   "metadata": {
    "execution": {
     "iopub.execute_input": "2020-04-29T01:03:44.196649Z",
     "iopub.status.busy": "2020-04-29T01:03:44.196649Z",
     "iopub.status.idle": "2020-04-29T01:03:44.203649Z",
     "shell.execute_reply": "2020-04-29T01:03:44.202649Z",
     "shell.execute_reply.started": "2020-04-29T01:03:44.196649Z"
    }
   },
   "outputs": [],
   "source": [
    "from math import sqrt"
   ]
  },
  {
   "cell_type": "code",
   "execution_count": 128,
   "metadata": {
    "execution": {
     "iopub.execute_input": "2020-04-29T01:41:57.302807Z",
     "iopub.status.busy": "2020-04-29T01:41:57.301807Z",
     "iopub.status.idle": "2020-04-29T01:41:57.313808Z",
     "shell.execute_reply": "2020-04-29T01:41:57.311808Z",
     "shell.execute_reply.started": "2020-04-29T01:41:57.302807Z"
    }
   },
   "outputs": [],
   "source": [
    "def p_58():\n",
    "    primes = 0\n",
    "    total = 1\n",
    "    count = 1\n",
    "    sum_count = 2\n",
    "    line_count = 1\n",
    "    while True:\n",
    "        for x in range(1, 5):\n",
    "            count += sum_count\n",
    "            if is_prime(count):\n",
    "                primes += 1\n",
    "            total += 1\n",
    "        line_count += 1\n",
    "        sum_count += 2\n",
    "        if primes/total < 0.10:\n",
    "            return ((line_count - 1)*2 + 1)"
   ]
  },
  {
   "cell_type": "code",
   "execution_count": 129,
   "metadata": {
    "execution": {
     "iopub.execute_input": "2020-04-29T01:41:57.457816Z",
     "iopub.status.busy": "2020-04-29T01:41:57.456816Z",
     "iopub.status.idle": "2020-04-29T01:42:23.693317Z",
     "shell.execute_reply": "2020-04-29T01:42:23.693317Z",
     "shell.execute_reply.started": "2020-04-29T01:41:57.456816Z"
    }
   },
   "outputs": [
    {
     "name": "stdout",
     "output_type": "stream",
     "text": [
      "26241\n"
     ]
    }
   ],
   "source": [
    "print(p_58())"
   ]
  },
  {
   "cell_type": "code",
   "execution_count": null,
   "metadata": {},
   "outputs": [],
   "source": []
  },
  {
   "cell_type": "code",
   "execution_count": null,
   "metadata": {},
   "outputs": [],
   "source": []
  }
 ],
 "metadata": {
  "kernelspec": {
   "display_name": "Python 3.8.1 32-bit",
   "language": "python",
   "name": "python38132bit23b1fddd62bd4f8ab6b58dac3b5ae4b5"
  },
  "language_info": {
   "codemirror_mode": {
    "name": "ipython",
    "version": 3
   },
   "file_extension": ".py",
   "mimetype": "text/x-python",
   "name": "python",
   "nbconvert_exporter": "python",
   "pygments_lexer": "ipython3",
   "version": "3.8.2"
  }
 },
 "nbformat": 4,
 "nbformat_minor": 4
}
