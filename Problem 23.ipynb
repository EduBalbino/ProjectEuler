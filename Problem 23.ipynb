{
 "cells": [
  {
   "cell_type": "code",
   "execution_count": 1,
   "metadata": {
    "execution": {
     "iopub.execute_input": "2020-04-20T17:58:45.626402Z",
     "iopub.status.busy": "2020-04-20T17:58:45.626402Z",
     "iopub.status.idle": "2020-04-20T17:58:45.635403Z",
     "shell.execute_reply": "2020-04-20T17:58:45.634403Z",
     "shell.execute_reply.started": "2020-04-20T17:58:45.626402Z"
    }
   },
   "outputs": [],
   "source": [
    "def get_divisors(n):\n",
    "    divisors = []\n",
    "    for x in range (1, int(n/2 + 1)):\n",
    "        if n%x == 0:\n",
    "            divisors.append(x)\n",
    "    return divisors"
   ]
  },
  {
   "cell_type": "code",
   "execution_count": 2,
   "metadata": {
    "execution": {
     "iopub.execute_input": "2020-04-20T17:58:46.457450Z",
     "iopub.status.busy": "2020-04-20T17:58:46.457450Z",
     "iopub.status.idle": "2020-04-20T17:59:16.172149Z",
     "shell.execute_reply": "2020-04-20T17:59:16.170149Z",
     "shell.execute_reply.started": "2020-04-20T17:58:46.457450Z"
    }
   },
   "outputs": [],
   "source": [
    "n = 28123\n",
    "abundant_numbers = []\n",
    "for x in range(1, n + 1):\n",
    "    if sum(get_divisors(x)) > x:\n",
    "        abundant_numbers.append(x)"
   ]
  },
  {
   "cell_type": "code",
   "execution_count": 10,
   "metadata": {
    "execution": {
     "iopub.execute_input": "2020-04-20T18:03:33.495867Z",
     "iopub.status.busy": "2020-04-20T18:03:33.494867Z",
     "iopub.status.idle": "2020-04-20T18:03:49.647791Z",
     "shell.execute_reply": "2020-04-20T18:03:49.646791Z",
     "shell.execute_reply.started": "2020-04-20T18:03:33.495867Z"
    }
   },
   "outputs": [],
   "source": [
    "sum_of_abundant_numbers = []\n",
    "numbers = [x for x in range(1, n + 1)]\n",
    "for x in range(len(abundant_numbers)):\n",
    "    for y in range(len(abundant_numbers[:x]), len(abundant_numbers)):\n",
    "        sum_of_abundant_numbers.append(abundant_numbers[x] + abundant_numbers[y])\n",
    "sum_of_abundant_numbers = list(set(list(sum_of_abundant_numbers)))\n",
    "for x in sum_of_abundant_numbers:\n",
    "    if x < n:\n",
    "        numbers.remove(x)"
   ]
  },
  {
   "cell_type": "code",
   "execution_count": 9,
   "metadata": {
    "execution": {
     "iopub.execute_input": "2020-04-20T18:02:46.568183Z",
     "iopub.status.busy": "2020-04-20T18:02:46.567183Z",
     "iopub.status.idle": "2020-04-20T18:02:46.573183Z",
     "shell.execute_reply": "2020-04-20T18:02:46.572183Z",
     "shell.execute_reply.started": "2020-04-20T18:02:46.568183Z"
    }
   },
   "outputs": [
    {
     "name": "stdout",
     "output_type": "stream",
     "text": [
      "4179871\n"
     ]
    }
   ],
   "source": [
    "print(sum(numbers) - 28123)"
   ]
  },
  {
   "cell_type": "code",
   "execution_count": 8,
   "metadata": {
    "execution": {
     "iopub.execute_input": "2020-04-20T18:00:40.427968Z",
     "iopub.status.busy": "2020-04-20T18:00:40.426968Z",
     "iopub.status.idle": "2020-04-20T18:00:40.434969Z",
     "shell.execute_reply": "2020-04-20T18:00:40.433969Z",
     "shell.execute_reply.started": "2020-04-20T18:00:40.427968Z"
    }
   },
   "outputs": [
    {
     "data": {
      "text/plain": [
       "[14297, 15371, 15557, 16187, 17261, 17891, 18437, 19067, 20161, 28123]"
      ]
     },
     "execution_count": 8,
     "metadata": {},
     "output_type": "execute_result"
    }
   ],
   "source": [
    "numbers[-10:]"
   ]
  },
  {
   "cell_type": "code",
   "execution_count": 44,
   "metadata": {
    "execution": {
     "iopub.execute_input": "2020-04-20T17:47:40.757262Z",
     "iopub.status.busy": "2020-04-20T17:47:40.756262Z",
     "iopub.status.idle": "2020-04-20T17:47:40.767263Z",
     "shell.execute_reply": "2020-04-20T17:47:40.766263Z",
     "shell.execute_reply.started": "2020-04-20T17:47:40.757262Z"
    }
   },
   "outputs": [
    {
     "data": {
      "text/plain": [
       "[24,\n",
       " 30,\n",
       " 32,\n",
       " 36,\n",
       " 42,\n",
       " 48,\n",
       " 52,\n",
       " 54,\n",
       " 60,\n",
       " 30,\n",
       " 36,\n",
       " 38,\n",
       " 42,\n",
       " 48,\n",
       " 54,\n",
       " 58,\n",
       " 60,\n",
       " 32,\n",
       " 38,\n",
       " 40,\n",
       " 44,\n",
       " 50,\n",
       " 56,\n",
       " 60,\n",
       " 36,\n",
       " 42,\n",
       " 44,\n",
       " 48,\n",
       " 54,\n",
       " 60,\n",
       " 42,\n",
       " 48,\n",
       " 50,\n",
       " 54,\n",
       " 60,\n",
       " 48,\n",
       " 54,\n",
       " 56,\n",
       " 60,\n",
       " 52,\n",
       " 58,\n",
       " 60,\n",
       " 54,\n",
       " 60,\n",
       " 60]"
      ]
     },
     "execution_count": 44,
     "metadata": {},
     "output_type": "execute_result"
    }
   ],
   "source": [
    "sum_of_abundant_numbers"
   ]
  },
  {
   "cell_type": "code",
   "execution_count": null,
   "metadata": {},
   "outputs": [],
   "source": []
  }
 ],
 "metadata": {
  "kernelspec": {
   "display_name": "Python 3",
   "language": "python",
   "name": "python3"
  },
  "language_info": {
   "codemirror_mode": {
    "name": "ipython",
    "version": 3
   },
   "file_extension": ".py",
   "mimetype": "text/x-python",
   "name": "python",
   "nbconvert_exporter": "python",
   "pygments_lexer": "ipython3",
   "version": "3.8.2"
  }
 },
 "nbformat": 4,
 "nbformat_minor": 4
}
