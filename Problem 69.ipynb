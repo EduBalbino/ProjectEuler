{
 "cells": [
  {
   "cell_type": "code",
   "execution_count": 13,
   "metadata": {
    "execution": {
     "iopub.execute_input": "2020-05-31T19:09:44.827844Z",
     "iopub.status.busy": "2020-05-31T19:09:44.827844Z",
     "iopub.status.idle": "2020-05-31T19:09:46.020913Z",
     "shell.execute_reply": "2020-05-31T19:09:46.018913Z",
     "shell.execute_reply.started": "2020-05-31T19:09:44.827844Z"
    }
   },
   "outputs": [],
   "source": [
    "from sympy.ntheory import totient\n",
    "from sympy import sieve\n",
    "from numpy import *"
   ]
  },
  {
   "cell_type": "code",
   "execution_count": 65,
   "metadata": {
    "execution": {
     "iopub.execute_input": "2020-05-31T19:19:40.650924Z",
     "iopub.status.busy": "2020-05-31T19:19:40.650924Z",
     "iopub.status.idle": "2020-05-31T19:19:40.668925Z",
     "shell.execute_reply": "2020-05-31T19:19:40.666925Z",
     "shell.execute_reply.started": "2020-05-31T19:19:40.650924Z"
    }
   },
   "outputs": [],
   "source": [
    "size = 10**6\n",
    "\n",
    "def p_069():\n",
    "    maxPair = [0, 0]\n",
    "    listadenumeros = [[] for _ in range(size + 1)]\n",
    "    for x in range(2, size + 1):\n",
    "        if not bool(listadenumeros[x]):\n",
    "            if (a:=(x/(x - 1))) > maxPair[0]:\n",
    "                maxPair[0] = a\n",
    "                maxPair[1] = x\n",
    "            for k in range(2, size//x + 1):\n",
    "                listadenumeros[x*k].append(x)\n",
    "        else:\n",
    "            totient = 1\n",
    "            for prime in listadenumeros[x]:\n",
    "                totient *= ((prime - 1)/prime)\n",
    "            if (a:=(1/totient)) > maxPair[0]:\n",
    "                maxPair[0] = a\n",
    "                maxPair[1] = x\n",
    "    return maxPair[1]\n"
   ]
  },
  {
   "cell_type": "code",
   "execution_count": 66,
   "metadata": {
    "execution": {
     "iopub.execute_input": "2020-05-31T19:19:40.859936Z",
     "iopub.status.busy": "2020-05-31T19:19:40.859936Z",
     "iopub.status.idle": "2020-05-31T19:19:44.871165Z",
     "shell.execute_reply": "2020-05-31T19:19:44.870165Z",
     "shell.execute_reply.started": "2020-05-31T19:19:40.859936Z"
    }
   },
   "outputs": [
    {
     "name": "stdout",
     "output_type": "stream",
     "text": [
      "510510\n"
     ]
    }
   ],
   "source": [
    "print(p_069())"
   ]
  },
  {
   "cell_type": "code",
   "execution_count": null,
   "metadata": {},
   "outputs": [],
   "source": []
  }
 ],
 "metadata": {
  "kernelspec": {
   "display_name": "Python 3.8.1 32-bit",
   "language": "python",
   "name": "python38132bit23b1fddd62bd4f8ab6b58dac3b5ae4b5"
  },
  "language_info": {
   "codemirror_mode": {
    "name": "ipython",
    "version": 3
   },
   "file_extension": ".py",
   "mimetype": "text/x-python",
   "name": "python",
   "nbconvert_exporter": "python",
   "pygments_lexer": "ipython3",
   "version": "3.8.2"
  }
 },
 "nbformat": 4,
 "nbformat_minor": 4
}
