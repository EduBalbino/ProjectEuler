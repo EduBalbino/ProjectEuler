{
 "cells": [
  {
   "cell_type": "code",
   "execution_count": 96,
   "metadata": {
    "execution": {
     "iopub.execute_input": "2020-05-31T20:04:49.708873Z",
     "iopub.status.busy": "2020-05-31T20:04:49.707873Z",
     "iopub.status.idle": "2020-05-31T20:04:49.727874Z",
     "shell.execute_reply": "2020-05-31T20:04:49.726874Z",
     "shell.execute_reply.started": "2020-05-31T20:04:49.708873Z"
    }
   },
   "outputs": [],
   "source": [
    "size = 10000000\n",
    "\n",
    "def p_070():\n",
    "    minPair = [100, 100] # Value, n, and totient(n)\n",
    "    listadenumeros = [[] for _ in range(size + 1)]\n",
    "    for x in range(2, size + 1):\n",
    "        if not bool(listadenumeros[x]):\n",
    "            for k in range(2, size//x + 1):\n",
    "                listadenumeros[x*k].append(x)\n",
    "        else:\n",
    "            numerator = 1\n",
    "            denominator = 1\n",
    "            for prime in listadenumeros[x]:\n",
    "                numerator *= prime\n",
    "                denominator *= (prime - 1)\n",
    "            if (b := numerator/denominator) <= minPair[0] and sorted(str(((x*denominator)//numerator))) == sorted(str(x)):\n",
    "                minPair[0] = b\n",
    "                minPair[1] = x\n",
    "    return minPair[1]"
   ]
  },
  {
   "cell_type": "code",
   "execution_count": null,
   "metadata": {},
   "outputs": [],
   "source": []
  },
  {
   "cell_type": "code",
   "execution_count": null,
   "metadata": {},
   "outputs": [],
   "source": []
  },
  {
   "cell_type": "code",
   "execution_count": null,
   "metadata": {},
   "outputs": [],
   "source": []
  },
  {
   "cell_type": "code",
   "execution_count": 97,
   "metadata": {
    "execution": {
     "iopub.execute_input": "2020-05-31T20:04:49.741875Z",
     "iopub.status.busy": "2020-05-31T20:04:49.741875Z",
     "iopub.status.idle": "2020-05-31T20:05:26.794994Z",
     "shell.execute_reply": "2020-05-31T20:05:26.793994Z",
     "shell.execute_reply.started": "2020-05-31T20:04:49.741875Z"
    }
   },
   "outputs": [
    {
     "name": "stdout",
     "output_type": "stream",
     "text": [
      "8319823\n"
     ]
    }
   ],
   "source": [
    "print(p_070())"
   ]
  }
 ],
 "metadata": {
  "kernelspec": {
   "display_name": "Python 3.8.1 32-bit",
   "language": "python",
   "name": "python38132bit23b1fddd62bd4f8ab6b58dac3b5ae4b5"
  },
  "language_info": {
   "codemirror_mode": {
    "name": "ipython",
    "version": 3
   },
   "file_extension": ".py",
   "mimetype": "text/x-python",
   "name": "python",
   "nbconvert_exporter": "python",
   "pygments_lexer": "ipython3",
   "version": "3.8.2"
  }
 },
 "nbformat": 4,
 "nbformat_minor": 4
}
