{
 "cells": [
  {
   "cell_type": "code",
   "execution_count": 99,
   "metadata": {
    "execution": {
     "iopub.execute_input": "2020-05-31T21:55:05.169256Z",
     "iopub.status.busy": "2020-05-31T21:55:05.168256Z",
     "iopub.status.idle": "2020-05-31T21:55:05.179256Z",
     "shell.execute_reply": "2020-05-31T21:55:05.178256Z",
     "shell.execute_reply.started": "2020-05-31T21:55:05.168256Z"
    }
   },
   "outputs": [],
   "source": [
    "size = 10000000\n",
    "\n",
    "def p_071():\n",
    "    a = 2; b = 3; c = 5; d = 7;\n",
    "    while(True):\n",
    "        a = (a + b)\n",
    "        c = (c + d)\n",
    "        if c > 1000000:\n",
    "            a = a - b\n",
    "            c = c - d\n",
    "            return a"
   ]
  },
  {
   "cell_type": "code",
   "execution_count": 100,
   "metadata": {
    "execution": {
     "iopub.execute_input": "2020-05-31T21:55:10.257547Z",
     "iopub.status.busy": "2020-05-31T21:55:10.256547Z",
     "iopub.status.idle": "2020-05-31T21:55:10.325550Z",
     "shell.execute_reply": "2020-05-31T21:55:10.323550Z",
     "shell.execute_reply.started": "2020-05-31T21:55:10.257547Z"
    }
   },
   "outputs": [
    {
     "name": "stdout",
     "output_type": "stream",
     "text": [
      "428570\n"
     ]
    }
   ],
   "source": [
    "print(p_071())"
   ]
  }
 ],
 "metadata": {
  "kernelspec": {
   "display_name": "Python 3.8.1 32-bit",
   "language": "python",
   "name": "python38132bit23b1fddd62bd4f8ab6b58dac3b5ae4b5"
  },
  "language_info": {
   "codemirror_mode": {
    "name": "ipython",
    "version": 3
   },
   "file_extension": ".py",
   "mimetype": "text/x-python",
   "name": "python",
   "nbconvert_exporter": "python",
   "pygments_lexer": "ipython3",
   "version": "3.8.2"
  }
 },
 "nbformat": 4,
 "nbformat_minor": 4
}
