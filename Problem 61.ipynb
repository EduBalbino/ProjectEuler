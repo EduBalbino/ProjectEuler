{
 "cells": [
  {
   "cell_type": "code",
   "execution_count": 1,
   "metadata": {
    "execution": {
     "iopub.execute_input": "2020-06-11T19:29:00.385468Z",
     "iopub.status.busy": "2020-06-11T19:29:00.384468Z",
     "iopub.status.idle": "2020-06-11T19:29:00.469473Z",
     "shell.execute_reply": "2020-06-11T19:29:00.467472Z",
     "shell.execute_reply.started": "2020-06-11T19:29:00.385468Z"
    }
   },
   "outputs": [],
   "source": [
    "triangList = [(x*(x+1))//2 for x in range(10000) if len(str((x*(x+1))//2)) == 4]\n",
    "quartList = [(x*x) for x in range(10000) if len(str(x*x))== 4]\n",
    "pentaList = [(x*(3*x-1))//2 for x in range(10000) if len(str((x*(3*x-1))//2)) == 4]\n",
    "hexaList = [x*(2*x-1) for x in range(10000) if len(str(x*(2*x-1))) == 4]\n",
    "heptaList = [x*(5*x-3)//2 for x in range(10000) if len(str((x*(5*x-3))//2)) == 4]\n",
    "octaList = [x*(3*x-2) for x in range(10000) if len(str(x*(3*x-2))) == 4]\n",
    "\n",
    "bigList = [triangList, quartList, pentaList, hexaList, heptaList]"
   ]
  },
  {
   "cell_type": "code",
   "execution_count": 5,
   "metadata": {
    "execution": {
     "iopub.execute_input": "2020-06-11T19:30:56.371102Z",
     "iopub.status.busy": "2020-06-11T19:30:56.370102Z",
     "iopub.status.idle": "2020-06-11T19:30:56.390103Z",
     "shell.execute_reply": "2020-06-11T19:30:56.388103Z",
     "shell.execute_reply.started": "2020-06-11T19:30:56.371102Z"
    }
   },
   "outputs": [],
   "source": [
    "def p_061():\n",
    "    for elem1 in octaList:\n",
    "        bigList = [triangList, quartList, pentaList, hexaList, heptaList]\n",
    "        for subList in bigList:\n",
    "            for elem2 in subList:\n",
    "                if elem1%100 == elem2//100:\n",
    "                    bigList2 = bigList.copy()\n",
    "                    bigList2.remove(subList)\n",
    "                    for subList2 in bigList2:\n",
    "                        for elem3 in subList2:\n",
    "                            if elem2%100 == elem3//100:\n",
    "                                bigList3 = bigList2.copy()\n",
    "                                bigList3.remove(subList2)\n",
    "                                for subList3 in bigList3:\n",
    "                                    for elem4 in subList3:\n",
    "                                        if elem3%100 == elem4//100:\n",
    "                                            bigList4 = bigList3.copy()\n",
    "                                            bigList4.remove(subList3)\n",
    "                                            for subList4 in bigList4:\n",
    "                                                for elem5 in subList4:\n",
    "                                                    if elem4%100 == elem5//100:\n",
    "                                                        bigList5 = bigList4.copy()\n",
    "                                                        bigList5.remove(subList4)\n",
    "                                                        for subList5 in bigList5:\n",
    "                                                            for elem6 in subList5:\n",
    "                                                                if elem5%100 == elem6//100 and elem6%100 == elem1//100:\n",
    "                                                                    return elem1 + elem2 + elem3 + elem4 + elem5 + elem6"
   ]
  },
  {
   "cell_type": "code",
   "execution_count": 6,
   "metadata": {
    "execution": {
     "iopub.execute_input": "2020-06-11T19:30:56.602115Z",
     "iopub.status.busy": "2020-06-11T19:30:56.602115Z",
     "iopub.status.idle": "2020-06-11T19:30:56.610115Z",
     "shell.execute_reply": "2020-06-11T19:30:56.609115Z",
     "shell.execute_reply.started": "2020-06-11T19:30:56.602115Z"
    }
   },
   "outputs": [
    {
     "name": "stdout",
     "output_type": "stream",
     "text": [
      "28684\n"
     ]
    }
   ],
   "source": [
    "print(p_061())"
   ]
  },
  {
   "cell_type": "code",
   "execution_count": 166,
   "metadata": {
    "execution": {
     "iopub.execute_input": "2020-05-30T23:45:17.604514Z",
     "iopub.status.busy": "2020-05-30T23:45:17.604514Z",
     "iopub.status.idle": "2020-05-30T23:45:17.614514Z",
     "shell.execute_reply": "2020-05-30T23:45:17.613514Z",
     "shell.execute_reply.started": "2020-05-30T23:45:17.604514Z"
    }
   },
   "outputs": [
    {
     "data": {
      "text/plain": [
       "[[1, 2, 3], [7, 8, 9]]"
      ]
     },
     "execution_count": 166,
     "metadata": {},
     "output_type": "execute_result"
    }
   ],
   "source": [
    "b"
   ]
  },
  {
   "cell_type": "code",
   "execution_count": null,
   "metadata": {},
   "outputs": [],
   "source": []
  }
 ],
 "metadata": {
  "kernelspec": {
   "display_name": "Python 3.8.1 32-bit",
   "language": "python",
   "name": "python38132bit23b1fddd62bd4f8ab6b58dac3b5ae4b5"
  },
  "language_info": {
   "codemirror_mode": {
    "name": "ipython",
    "version": 3
   },
   "file_extension": ".py",
   "mimetype": "text/x-python",
   "name": "python",
   "nbconvert_exporter": "python",
   "pygments_lexer": "ipython3",
   "version": "3.8.2"
  }
 },
 "nbformat": 4,
 "nbformat_minor": 4
}
