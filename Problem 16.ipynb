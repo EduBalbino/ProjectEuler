{
 "cells": [
  {
   "cell_type": "code",
   "execution_count": 1,
   "metadata": {
    "execution": {
     "iopub.execute_input": "2020-04-19T22:52:54.518259Z",
     "iopub.status.busy": "2020-04-19T22:52:54.517259Z",
     "iopub.status.idle": "2020-04-19T22:52:54.526259Z",
     "shell.execute_reply": "2020-04-19T22:52:54.525259Z",
     "shell.execute_reply.started": "2020-04-19T22:52:54.518259Z"
    }
   },
   "outputs": [],
   "source": [
    "a = 125"
   ]
  },
  {
   "cell_type": "code",
   "execution_count": 7,
   "metadata": {
    "execution": {
     "iopub.execute_input": "2020-04-19T22:53:55.484746Z",
     "iopub.status.busy": "2020-04-19T22:53:55.484746Z",
     "iopub.status.idle": "2020-04-19T22:53:55.491746Z",
     "shell.execute_reply": "2020-04-19T22:53:55.489746Z",
     "shell.execute_reply.started": "2020-04-19T22:53:55.484746Z"
    }
   },
   "outputs": [
    {
     "name": "stdout",
     "output_type": "stream",
     "text": [
      "1366\n"
     ]
    }
   ],
   "source": [
    "print(sum(list(map(int, str(2**1000)))))"
   ]
  },
  {
   "cell_type": "code",
   "execution_count": null,
   "metadata": {},
   "outputs": [],
   "source": []
  }
 ],
 "metadata": {
  "kernelspec": {
   "display_name": "Python 3.8.1 32-bit",
   "language": "python",
   "name": "python38132bit23b1fddd62bd4f8ab6b58dac3b5ae4b5"
  },
  "language_info": {
   "codemirror_mode": {
    "name": "ipython",
    "version": 3
   },
   "file_extension": ".py",
   "mimetype": "text/x-python",
   "name": "python",
   "nbconvert_exporter": "python",
   "pygments_lexer": "ipython3",
   "version": "3.8.2"
  }
 },
 "nbformat": 4,
 "nbformat_minor": 4
}
