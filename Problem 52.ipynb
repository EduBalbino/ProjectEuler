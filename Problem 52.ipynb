{
 "cells": [
  {
   "cell_type": "code",
   "execution_count": 1,
   "metadata": {
    "tags": []
   },
   "outputs": [],
   "source": [
    "def p_52():\n",
    "    cont = 100000\n",
    "    while True:\n",
    "        cont += 1\n",
    "        if len(c:=str(6*cont)) == len(d:=str(cont)):\n",
    "            if sorted(c) == sorted(str(a:=2*cont)) == sorted(str(3*cont)) == sorted(str(2*a)) == sorted(str(5*cont)) == sorted(d):\n",
    "                return cont\n",
    "        if cont%10000 == 0:\n",
    "            print(cont)"
   ]
  },
  {
   "cell_type": "code",
   "execution_count": 2,
   "metadata": {
    "tags": []
   },
   "outputs": [
    {
     "name": "stdout",
     "output_type": "stream",
     "text": [
      "110000\n",
      "120000\n",
      "130000\n",
      "140000\n",
      "142857\n"
     ]
    }
   ],
   "source": [
    "print(p_52())"
   ]
  },
  {
   "cell_type": "code",
   "execution_count": 18,
   "metadata": {
    "execution": {
     "iopub.execute_input": "2020-04-28T06:31:56.600455Z",
     "iopub.status.busy": "2020-04-28T06:31:56.599455Z",
     "iopub.status.idle": "2020-04-28T06:31:56.614456Z",
     "shell.execute_reply": "2020-04-28T06:31:56.613456Z",
     "shell.execute_reply.started": "2020-04-28T06:31:56.600455Z"
    }
   },
   "outputs": [
    {
     "data": {
      "text/plain": [
       "False"
      ]
     },
     "execution_count": 18,
     "metadata": {},
     "output_type": "execute_result"
    }
   ],
   "source": [
    "cont = 12553\n"
   ]
  },
  {
   "cell_type": "code",
   "execution_count": 36,
   "metadata": {
    "execution": {
     "iopub.execute_input": "2020-04-28T07:36:43.708757Z",
     "iopub.status.busy": "2020-04-28T07:36:43.707757Z",
     "iopub.status.idle": "2020-04-28T07:36:43.717757Z",
     "shell.execute_reply": "2020-04-28T07:36:43.716757Z",
     "shell.execute_reply.started": "2020-04-28T07:36:43.708757Z"
    }
   },
   "outputs": [
    {
     "data": {
      "text/plain": [
       "True"
      ]
     },
     "execution_count": 36,
     "metadata": {},
     "output_type": "execute_result"
    }
   ],
   "source": [
    "sorted(str(123456789)) == sorted(str(987654321))"
   ]
  },
  {
   "cell_type": "code",
   "execution_count": null,
   "metadata": {},
   "outputs": [],
   "source": []
  }
 ],
 "metadata": {
  "kernelspec": {
   "display_name": "Python 3 (ipykernel)",
   "language": "python",
   "name": "python3"
  },
  "language_info": {
   "codemirror_mode": {
    "name": "ipython",
    "version": 3
   },
   "file_extension": ".py",
   "mimetype": "text/x-python",
   "name": "python",
   "nbconvert_exporter": "python",
   "pygments_lexer": "ipython3",
   "version": "3.10.2"
  }
 },
 "nbformat": 4,
 "nbformat_minor": 4
}
