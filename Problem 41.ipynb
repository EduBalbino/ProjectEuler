{
 "cells": [
  {
   "cell_type": "code",
   "execution_count": 1,
   "metadata": {
    "execution": {
     "iopub.execute_input": "2020-04-23T22:45:08.693105Z",
     "iopub.status.busy": "2020-04-23T22:45:08.693105Z",
     "iopub.status.idle": "2020-04-23T22:45:08.699105Z",
     "shell.execute_reply": "2020-04-23T22:45:08.698105Z",
     "shell.execute_reply.started": "2020-04-23T22:45:08.693105Z"
    }
   },
   "outputs": [],
   "source": [
    "import itertools"
   ]
  },
  {
   "cell_type": "code",
   "execution_count": 2,
   "metadata": {
    "execution": {
     "iopub.execute_input": "2020-04-23T22:45:10.411203Z",
     "iopub.status.busy": "2020-04-23T22:45:10.410203Z",
     "iopub.status.idle": "2020-04-23T22:45:10.422204Z",
     "shell.execute_reply": "2020-04-23T22:45:10.421204Z",
     "shell.execute_reply.started": "2020-04-23T22:45:10.411203Z"
    }
   },
   "outputs": [],
   "source": [
    "def is_prime(n):\n",
    "    if n < 2: \n",
    "         return False;\n",
    "    if n % 2 == 0:             \n",
    "         return n == 2  # return False\n",
    "    k = 3\n",
    "    while k*k <= n:\n",
    "         if n % k == 0:\n",
    "            return False\n",
    "         k += 2\n",
    "    return True"
   ]
  },
  {
   "cell_type": "code",
   "execution_count": 3,
   "metadata": {
    "execution": {
     "iopub.execute_input": "2020-04-23T22:45:12.687334Z",
     "iopub.status.busy": "2020-04-23T22:45:12.686333Z",
     "iopub.status.idle": "2020-04-23T22:45:13.084356Z",
     "shell.execute_reply": "2020-04-23T22:45:13.084356Z",
     "shell.execute_reply.started": "2020-04-23T22:45:12.687334Z"
    }
   },
   "outputs": [],
   "source": [
    "pandigital_list = []\n",
    "for x in range(1, 10):\n",
    "    pandigital_list.extend([y for y in list(map(int, map(''.join, (itertools.permutations('123456789'[:x]))))) if y%2 != 0])"
   ]
  },
  {
   "cell_type": "code",
   "execution_count": 4,
   "metadata": {
    "execution": {
     "iopub.execute_input": "2020-04-23T22:45:18.043640Z",
     "iopub.status.busy": "2020-04-23T22:45:18.043640Z",
     "iopub.status.idle": "2020-04-23T22:45:18.346657Z",
     "shell.execute_reply": "2020-04-23T22:45:18.345657Z",
     "shell.execute_reply.started": "2020-04-23T22:45:18.043640Z"
    }
   },
   "outputs": [
    {
     "name": "stdout",
     "output_type": "stream",
     "text": [
      "7652413\n"
     ]
    }
   ],
   "source": [
    "for x in reversed(pandigital_list):\n",
    "    if is_prime(x):\n",
    "        print(x)\n",
    "        break"
   ]
  },
  {
   "cell_type": "code",
   "execution_count": null,
   "metadata": {},
   "outputs": [],
   "source": []
  }
 ],
 "metadata": {
  "kernelspec": {
   "display_name": "Python 3.8.1 32-bit",
   "language": "python",
   "name": "python38132bit23b1fddd62bd4f8ab6b58dac3b5ae4b5"
  },
  "language_info": {
   "codemirror_mode": {
    "name": "ipython",
    "version": 3
   },
   "file_extension": ".py",
   "mimetype": "text/x-python",
   "name": "python",
   "nbconvert_exporter": "python",
   "pygments_lexer": "ipython3",
   "version": "3.8.2"
  }
 },
 "nbformat": 4,
 "nbformat_minor": 4
}
