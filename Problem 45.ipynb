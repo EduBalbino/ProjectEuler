{
 "cells": [
  {
   "cell_type": "code",
   "execution_count": 9,
   "metadata": {
    "execution": {
     "iopub.execute_input": "2020-04-25T18:25:18.941353Z",
     "iopub.status.busy": "2020-04-25T18:25:18.940353Z",
     "iopub.status.idle": "2020-04-25T18:25:19.328375Z",
     "shell.execute_reply": "2020-04-25T18:25:19.327375Z",
     "shell.execute_reply.started": "2020-04-25T18:25:18.941353Z"
    }
   },
   "outputs": [
    {
     "name": "stdout",
     "output_type": "stream",
     "text": [
      "Solution = 40755\n",
      "Solution = 1533776805\n"
     ]
    }
   ],
   "source": [
    "trig_numb = set()\n",
    "pent_numb = set()\n",
    "hexag_numb = set()\n",
    "i = 1\n",
    "while i < 100000:\n",
    "    i += 1\n",
    "    t = (i*i + i) // 2\n",
    "    p = (3*i*i - i) // 2\n",
    "    h = (2*i*i - i)\n",
    "    if t in pent_numb and t in hexag_numb:\n",
    "        print(\"Solution =\", t)\n",
    "    pent_numb.add(p)\n",
    "    hexag_numb.add(h)"
   ]
  }
 ],
 "metadata": {
  "kernelspec": {
   "display_name": "Python 3.8.1 32-bit",
   "language": "python",
   "name": "python38132bit23b1fddd62bd4f8ab6b58dac3b5ae4b5"
  },
  "language_info": {
   "codemirror_mode": {
    "name": "ipython",
    "version": 3
   },
   "file_extension": ".py",
   "mimetype": "text/x-python",
   "name": "python",
   "nbconvert_exporter": "python",
   "pygments_lexer": "ipython3",
   "version": "3.8.2"
  }
 },
 "nbformat": 4,
 "nbformat_minor": 4
}
