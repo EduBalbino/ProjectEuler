{
 "cells": [
  {
   "cell_type": "code",
   "execution_count": 49,
   "metadata": {
    "execution": {
     "iopub.execute_input": "2020-04-26T01:04:58.454651Z",
     "iopub.status.busy": "2020-04-26T01:04:58.453651Z",
     "iopub.status.idle": "2020-04-26T01:04:58.490653Z",
     "shell.execute_reply": "2020-04-26T01:04:58.489653Z",
     "shell.execute_reply.started": "2020-04-26T01:04:58.453651Z"
    }
   },
   "outputs": [],
   "source": [
    "def is_prime(n):\n",
    "    if n < 2: \n",
    "         return False;\n",
    "    if n % 2 == 0:             \n",
    "         return n == 2  # return False\n",
    "    k = 3\n",
    "    while k*k <= n:\n",
    "         if n % k == 0:\n",
    "            return False\n",
    "         k += 2\n",
    "    return True\n",
    "\n",
    "primes = [2]\n",
    "primes.extend([x for x in range(1, 10000, 2) if is_prime(x)])\n",
    "\n",
    "def four_or_more_prime_divisors(n):\n",
    "    divisors = 0\n",
    "    for x in primes:\n",
    "        if n%x == 0:\n",
    "            divisors += 1\n",
    "        if divisors == 4:\n",
    "            return True\n",
    "    return False"
   ]
  },
  {
   "cell_type": "code",
   "execution_count": 50,
   "metadata": {
    "execution": {
     "iopub.execute_input": "2020-04-26T01:04:58.800671Z",
     "iopub.status.busy": "2020-04-26T01:04:58.799671Z",
     "iopub.status.idle": "2020-04-26T01:05:29.235411Z",
     "shell.execute_reply": "2020-04-26T01:05:29.234411Z",
     "shell.execute_reply.started": "2020-04-26T01:04:58.800671Z"
    }
   },
   "outputs": [
    {
     "name": "stdout",
     "output_type": "stream",
     "text": [
      "[134046, 134045, 134044, 134043]\n"
     ]
    }
   ],
   "source": [
    "cont = 0\n",
    "for x in range(4, 1000000):\n",
    "    if four_or_more_prime_divisors(x):\n",
    "        cont += 1\n",
    "    else:\n",
    "        cont = 0\n",
    "    if cont == 4:\n",
    "        print([x, x-1, x-2, x-3])\n",
    "        break"
   ]
  },
  {
   "cell_type": "code",
   "execution_count": null,
   "metadata": {
    "execution": {
     "iopub.status.busy": "2020-04-26T00:57:33.465199Z",
     "iopub.status.idle": "2020-04-26T00:57:33.466199Z"
    }
   },
   "outputs": [],
   "source": [
    "2*3*5"
   ]
  },
  {
   "cell_type": "code",
   "execution_count": null,
   "metadata": {},
   "outputs": [],
   "source": []
  }
 ],
 "metadata": {
  "kernelspec": {
   "display_name": "Python 3.8.1 32-bit",
   "language": "python",
   "name": "python38132bit23b1fddd62bd4f8ab6b58dac3b5ae4b5"
  },
  "language_info": {
   "codemirror_mode": {
    "name": "ipython",
    "version": 3
   },
   "file_extension": ".py",
   "mimetype": "text/x-python",
   "name": "python",
   "nbconvert_exporter": "python",
   "pygments_lexer": "ipython3",
   "version": "3.8.2"
  }
 },
 "nbformat": 4,
 "nbformat_minor": 4
}
