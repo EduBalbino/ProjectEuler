{
 "cells": [
  {
   "cell_type": "code",
   "execution_count": 18,
   "metadata": {
    "execution": {
     "iopub.execute_input": "2020-05-03T02:45:32.296460Z",
     "iopub.status.busy": "2020-05-03T02:45:32.296460Z",
     "iopub.status.idle": "2020-05-03T02:45:51.095535Z",
     "shell.execute_reply": "2020-05-03T02:45:51.094535Z",
     "shell.execute_reply.started": "2020-05-03T02:45:32.296460Z"
    }
   },
   "outputs": [
    {
     "name": "stdout",
     "output_type": "stream",
     "text": [
      "26033\n"
     ]
    }
   ],
   "source": [
    "%%cython\n",
    "from itertools import *\n",
    "from math import *\n",
    "import numpy as np\n",
    "\n",
    "def sieve_numpy(n):\n",
    "    flags = np.ones(n, dtype=bool)\n",
    "    flags[0] = flags[1] = False\n",
    "    for i in range(2, floor(sqrt(n)) + 1):\n",
    "        if flags[i]:\n",
    "            flags[i*i::i] = False\n",
    "    return np.flatnonzero(flags).tolist()\n",
    "\n",
    "def concatenated(x, y):\n",
    "    return int(str(x) + str(y))\n",
    "\n",
    "primeset = set(sieve_numpy(100000000))\n",
    "prime10klist = list(sieve_numpy(10000))\n",
    "\n",
    "valid_pairs = set()\n",
    "for x in prime10klist:\n",
    "    for y in prime10klist[prime10klist.index(x):]:\n",
    "        if concatenated(x, y) in primeset and concatenated(y, x) in primeset:\n",
    "            valid_pairs.add((x, y))\n",
    "\n",
    "singular_primes = set()\n",
    "\n",
    "for pair in valid_pairs:\n",
    "    singular_primes.add(pair[0]); singular_primes.add(pair[1])\n",
    "\n",
    "possible_triples = set()\n",
    "for prime in singular_primes:\n",
    "    for pair in valid_pairs:\n",
    "        if tuple(sorted([prime, pair[0]])) in valid_pairs and tuple(sorted([prime, pair[1]])) in valid_pairs:\n",
    "            possible_triples.add(tuple(sorted([prime, pair[0], pair[1]])))\n",
    "\n",
    "possible_quads = set()\n",
    "for prime in singular_primes:\n",
    "    for triple in possible_triples:\n",
    "        if tuple(sorted([prime, triple[0]])) in valid_pairs and tuple(sorted([prime, triple[1]])) in valid_pairs and tuple(sorted([prime, triple[2]])) in valid_pairs:\n",
    "            possible_quads.add(tuple(sorted([prime, triple[0], triple[1], triple[2]])))\n",
    "\n",
    "possible_pents = set()\n",
    "for prime in singular_primes:\n",
    "    for quad in possible_quads:\n",
    "        if tuple(sorted([prime, quad[0]])) in valid_pairs and tuple(sorted([prime, quad[1]])) in valid_pairs and tuple(sorted([prime, quad[2]])) in valid_pairs and tuple(sorted([prime, quad[3]])) in valid_pairs:\n",
    "            possible_pents.add(tuple(sorted([prime, quad[0], quad[1], quad[2], quad[3]])))\n",
    "\n",
    "print(sum(list(possible_pents)[0]))"
   ]
  },
  {
   "cell_type": "code",
   "execution_count": 13,
   "metadata": {
    "execution": {
     "iopub.execute_input": "2020-05-02T23:57:08.707090Z",
     "iopub.status.busy": "2020-05-02T23:57:08.707090Z",
     "iopub.status.idle": "2020-05-02T23:57:08.714090Z",
     "shell.execute_reply": "2020-05-02T23:57:08.713090Z",
     "shell.execute_reply.started": "2020-05-02T23:57:08.707090Z"
    }
   },
   "outputs": [],
   "source": [
    "def concatenated_math(x, y):\n",
    "    return int(x*10**(1+floor(log10(y)))+y)"
   ]
  },
  {
   "cell_type": "code",
   "execution_count": 8,
   "metadata": {
    "execution": {
     "iopub.execute_input": "2020-05-02T23:56:25.037592Z",
     "iopub.status.busy": "2020-05-02T23:56:25.037592Z",
     "iopub.status.idle": "2020-05-02T23:56:25.044593Z",
     "shell.execute_reply": "2020-05-02T23:56:25.043592Z",
     "shell.execute_reply.started": "2020-05-02T23:56:25.037592Z"
    }
   },
   "outputs": [],
   "source": [
    "def concatenated_python(x, y):\n",
    "    return int(str(x) + str(y))"
   ]
  },
  {
   "cell_type": "code",
   "execution_count": 15,
   "metadata": {
    "execution": {
     "iopub.execute_input": "2020-05-03T02:43:28.006351Z",
     "iopub.status.busy": "2020-05-03T02:43:28.005351Z",
     "iopub.status.idle": "2020-05-03T02:44:08.088643Z",
     "shell.execute_reply": "2020-05-03T02:44:08.087643Z",
     "shell.execute_reply.started": "2020-05-03T02:43:28.006351Z"
    }
   },
   "outputs": [],
   "source": [
    "for x in range(1, 5000):\n",
    "    for y in range(1, 5000):\n",
    "        int(str(x) + str(y))"
   ]
  },
  {
   "cell_type": "code",
   "execution_count": 16,
   "metadata": {
    "execution": {
     "iopub.execute_input": "2020-05-03T02:44:17.751196Z",
     "iopub.status.busy": "2020-05-03T02:44:17.750196Z",
     "iopub.status.idle": "2020-05-03T02:44:46.301829Z",
     "shell.execute_reply": "2020-05-03T02:44:46.300829Z",
     "shell.execute_reply.started": "2020-05-03T02:44:17.751196Z"
    }
   },
   "outputs": [],
   "source": [
    "%%cython\n",
    "for x in range(1, 5000):\n",
    "    for y in range(1, 5000):\n",
    "        int(str(x) + str(y))"
   ]
  },
  {
   "cell_type": "code",
   "execution_count": 5,
   "metadata": {
    "execution": {
     "iopub.execute_input": "2020-05-03T19:24:54.926570Z",
     "iopub.status.busy": "2020-05-03T19:24:54.926570Z",
     "iopub.status.idle": "2020-05-03T19:24:54.938571Z",
     "shell.execute_reply": "2020-05-03T19:24:54.936570Z",
     "shell.execute_reply.started": "2020-05-03T19:24:54.926570Z"
    }
   },
   "outputs": [],
   "source": [
    "%load_ext Cython"
   ]
  },
  {
   "cell_type": "code",
   "execution_count": 21,
   "metadata": {
    "execution": {
     "iopub.execute_input": "2020-05-03T19:35:06.160530Z",
     "iopub.status.busy": "2020-05-03T19:35:06.159530Z",
     "iopub.status.idle": "2020-05-03T19:35:06.173531Z",
     "shell.execute_reply": "2020-05-03T19:35:06.171531Z",
     "shell.execute_reply.started": "2020-05-03T19:35:06.160530Z"
    }
   },
   "outputs": [
    {
     "ename": "SyntaxError",
     "evalue": "invalid syntax (<ipython-input-21-ff0daef7a74b>, line 2)",
     "output_type": "error",
     "traceback": [
      "\u001b[1;36m  File \u001b[1;32m\"<ipython-input-21-ff0daef7a74b>\"\u001b[1;36m, line \u001b[1;32m2\u001b[0m\n\u001b[1;33m    from cpython cimport array\u001b[0m\n\u001b[1;37m                 ^\u001b[0m\n\u001b[1;31mSyntaxError\u001b[0m\u001b[1;31m:\u001b[0m invalid syntax\n"
     ]
    }
   ],
   "source": [
    "import numpy as np\n",
    "from cpython cimport array\n",
    "from math import floor\n",
    "from math import sqrt"
   ]
  },
  {
   "cell_type": "code",
   "execution_count": 24,
   "metadata": {
    "execution": {
     "iopub.execute_input": "2020-05-03T19:36:41.652992Z",
     "iopub.status.busy": "2020-05-03T19:36:41.652992Z",
     "iopub.status.idle": "2020-05-03T19:36:44.833174Z",
     "shell.execute_reply": "2020-05-03T19:36:44.831174Z",
     "shell.execute_reply.started": "2020-05-03T19:36:41.652992Z"
    }
   },
   "outputs": [],
   "source": [
    "%%cython\n",
    "cdef concatenated_cython(int x, int y):\n",
    "    return int(str(x) + str(y))"
   ]
  },
  {
   "cell_type": "code",
   "execution_count": 23,
   "metadata": {
    "execution": {
     "iopub.execute_input": "2020-05-03T19:36:40.203909Z",
     "iopub.status.busy": "2020-05-03T19:36:40.203909Z",
     "iopub.status.idle": "2020-05-03T19:36:40.211910Z",
     "shell.execute_reply": "2020-05-03T19:36:40.209910Z",
     "shell.execute_reply.started": "2020-05-03T19:36:40.203909Z"
    }
   },
   "outputs": [],
   "source": [
    "def concatenated_python(x, y):\n",
    "    return int(str(x) + str(y))"
   ]
  },
  {
   "cell_type": "code",
   "execution_count": null,
   "metadata": {},
   "outputs": [],
   "source": [
    "for x in range(3000):\n",
    "    for y in range(3000):\n",
    "        concatenated_python(x, y)"
   ]
  },
  {
   "cell_type": "code",
   "execution_count": 1,
   "metadata": {
    "execution": {
     "iopub.execute_input": "2020-05-03T19:40:00.460363Z",
     "iopub.status.busy": "2020-05-03T19:40:00.460363Z",
     "iopub.status.idle": "2020-05-03T19:40:00.475364Z",
     "shell.execute_reply": "2020-05-03T19:40:00.473364Z",
     "shell.execute_reply.started": "2020-05-03T19:40:00.460363Z"
    }
   },
   "outputs": [
    {
     "name": "stderr",
     "output_type": "stream",
     "text": [
      "UsageError: Cell magic `%%cython` not found.\n"
     ]
    }
   ],
   "source": [
    "%%cython\n",
    "cdef concatenated_cython(int x, int y):\n",
    "    return int(str(x) + str(y))"
   ]
  },
  {
   "cell_type": "code",
   "execution_count": 2,
   "metadata": {
    "execution": {
     "iopub.execute_input": "2020-05-03T19:40:00.780382Z",
     "iopub.status.busy": "2020-05-03T19:40:00.779382Z",
     "iopub.status.idle": "2020-05-03T19:40:00.789382Z",
     "shell.execute_reply": "2020-05-03T19:40:00.787382Z",
     "shell.execute_reply.started": "2020-05-03T19:40:00.780382Z"
    }
   },
   "outputs": [
    {
     "name": "stderr",
     "output_type": "stream",
     "text": [
      "UsageError: Cell magic `%%cython` not found.\n"
     ]
    }
   ],
   "source": [
    "%%cython\n",
    "for x in range(3000):\n",
    "    for y in range(3000):\n",
    "        concatenated_cython(x, y)"
   ]
  },
  {
   "cell_type": "code",
   "execution_count": null,
   "metadata": {},
   "outputs": [],
   "source": []
  },
  {
   "cell_type": "code",
   "execution_count": null,
   "metadata": {},
   "outputs": [],
   "source": []
  }
 ],
 "metadata": {
  "kernelspec": {
   "display_name": "Python 3.8.1 32-bit",
   "language": "python",
   "name": "python38132bit23b1fddd62bd4f8ab6b58dac3b5ae4b5"
  },
  "language_info": {
   "codemirror_mode": {
    "name": "ipython",
    "version": 3
   },
   "file_extension": ".py",
   "mimetype": "text/x-python",
   "name": "python",
   "nbconvert_exporter": "python",
   "pygments_lexer": "ipython3",
   "version": "3.8.2"
  }
 },
 "nbformat": 4,
 "nbformat_minor": 4
}
