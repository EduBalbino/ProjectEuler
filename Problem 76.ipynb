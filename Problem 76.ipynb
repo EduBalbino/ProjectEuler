{
 "cells": [
  {
   "cell_type": "code",
   "execution_count": 18,
   "metadata": {
    "execution": {
     "iopub.execute_input": "2020-06-08T00:17:09.215695Z",
     "iopub.status.busy": "2020-06-08T00:17:09.215695Z",
     "iopub.status.idle": "2020-06-08T00:17:09.241696Z",
     "shell.execute_reply": "2020-06-08T00:17:09.239696Z",
     "shell.execute_reply.started": "2020-06-08T00:17:09.215695Z"
    }
   },
   "outputs": [],
   "source": [
    "\n",
    "\n",
    "cdef p_076():\n",
    "    \n",
    "    cdef int size = 40\n",
    "    \n",
    "    size -= 2\n",
    "    starterTuple = (1, 1)\n",
    "    setOfTuples = set((starterTuple,))\n",
    "    setOfTuplesAux = set()\n",
    "\n",
    "    for x in range(1, size + 1):\n",
    "        for item in setOfTuples:\n",
    "            for differentItem in set(item):\n",
    "                lista = list(item)\n",
    "                lista[lista.index(differentItem)] += 1\n",
    "                if (a:=tuple(reversed(sorted(lista)))) not in setOfTuplesAux:\n",
    "                    setOfTuplesAux.add(a)\n",
    "            setOfTuplesAux.add((*item, 1))\n",
    "        setOfTuples = setOfTuplesAux\n",
    "        setOfTuplesAux = set()\n",
    "    return len(setOfTuples)"
   ]
  },
  {
   "cell_type": "code",
   "execution_count": 19,
   "metadata": {
    "execution": {
     "iopub.execute_input": "2020-06-08T00:17:09.373704Z",
     "iopub.status.busy": "2020-06-08T00:17:09.372704Z",
     "iopub.status.idle": "2020-06-08T00:17:12.748897Z",
     "shell.execute_reply": "2020-06-08T00:17:12.747897Z",
     "shell.execute_reply.started": "2020-06-08T00:17:09.373704Z"
    }
   },
   "outputs": [],
   "source": [
    "for a in sorted(p_076()):\n",
    "    pass"
   ]
  },
  {
   "cell_type": "code",
   "execution_count": 24,
   "metadata": {
    "execution": {
     "iopub.execute_input": "2020-06-08T00:19:40.872369Z",
     "iopub.status.busy": "2020-06-08T00:19:40.871369Z",
     "iopub.status.idle": "2020-06-08T00:19:41.829424Z",
     "shell.execute_reply": "2020-06-08T00:19:41.828424Z",
     "shell.execute_reply.started": "2020-06-08T00:19:40.872369Z"
    }
   },
   "outputs": [],
   "source": [
    "%load_ext Cython"
   ]
  },
  {
   "cell_type": "code",
   "execution_count": 38,
   "metadata": {
    "execution": {
     "iopub.execute_input": "2020-06-08T02:12:19.084917Z",
     "iopub.status.busy": "2020-06-08T02:12:19.084917Z",
     "iopub.status.idle": "2020-06-08T02:12:19.095917Z",
     "shell.execute_reply": "2020-06-08T02:12:19.094917Z",
     "shell.execute_reply.started": "2020-06-08T02:12:19.084917Z"
    }
   },
   "outputs": [],
   "source": [
    "%%cython\n",
    "\n",
    "size = 50\n",
    "    \n",
    "size -= 2\n",
    "starterTuple = (1, 1)\n",
    "setOfTuples = set((starterTuple,))\n",
    "setOfTuplesAux = set()\n",
    "\n",
    "for x in range(1, size + 1):\n",
    "    for item in setOfTuples:\n",
    "        for differentItem in set(item):\n",
    "            lista = list(item)\n",
    "            lista[lista.index(differentItem)] += 1\n",
    "            a = tuple(reversed(sorted(lista)))\n",
    "            if a not in setOfTuplesAux:\n",
    "                setOfTuplesAux.add(a)\n",
    "        setOfTuplesAux.add((*item, 1))\n",
    "    setOfTuples = setOfTuplesAux\n",
    "    setOfTuplesAux = set()\n",
    "print(len(setOfTuples))"
   ]
  },
  {
   "cell_type": "code",
   "execution_count": 6,
   "metadata": {
    "execution": {
     "iopub.execute_input": "2020-06-07T22:24:51.762350Z",
     "iopub.status.busy": "2020-06-07T22:24:51.762350Z",
     "iopub.status.idle": "2020-06-07T22:24:51.770351Z",
     "shell.execute_reply": "2020-06-07T22:24:51.767350Z",
     "shell.execute_reply.started": "2020-06-07T22:24:51.762350Z"
    }
   },
   "outputs": [],
   "source": [
    "test = (1, 2, 2)"
   ]
  },
  {
   "cell_type": "code",
   "execution_count": 8,
   "metadata": {
    "execution": {
     "iopub.execute_input": "2020-06-07T22:25:01.499907Z",
     "iopub.status.busy": "2020-06-07T22:25:01.498907Z",
     "iopub.status.idle": "2020-06-07T22:25:01.512908Z",
     "shell.execute_reply": "2020-06-07T22:25:01.510908Z",
     "shell.execute_reply.started": "2020-06-07T22:25:01.499907Z"
    }
   },
   "outputs": [
    {
     "data": {
      "text/plain": [
       "(1, 3, 2)"
      ]
     },
     "execution_count": 8,
     "metadata": {},
     "output_type": "execute_result"
    }
   ],
   "source": [
    "lista = list(test)\n",
    "lista[lista.index(2)] += 1\n",
    "tuple(lista)"
   ]
  },
  {
   "cell_type": "code",
   "execution_count": 2,
   "metadata": {
    "execution": {
     "iopub.execute_input": "2020-06-13T22:09:32.236284Z",
     "iopub.status.busy": "2020-06-13T22:09:32.235284Z",
     "iopub.status.idle": "2020-06-13T22:09:34.008386Z",
     "shell.execute_reply": "2020-06-13T22:09:34.007386Z",
     "shell.execute_reply.started": "2020-06-13T22:09:32.236284Z"
    }
   },
   "outputs": [
    {
     "name": "stdout",
     "output_type": "stream",
     "text": [
      "36167251325636293988820471890953695495016030339315650422081868605887952568754066420592310556052906916435143\n"
     ]
    }
   ],
   "source": [
    "n = 10000\n",
    "p = [1]*(n + 1)\n",
    "\n",
    "for i in range(1, n + 1):\n",
    "\tj, k, s = 1, 1, 0\n",
    "\twhile j > 0:\n",
    "\t\tj = i - (3 * k * k + k) // 2\n",
    "\t\tif j >= 0:\n",
    "\t\t\ts -= (-1) ** k * p[j]\n",
    "\t\tj = i - (3 * k * k - k) // 2\n",
    "\t\tif j >= 0:\n",
    "\t\t\ts -= (-1) ** k * p[j]\n",
    "\t\tk += 1\n",
    "\tp[i] = s\n",
    "\n",
    "print(p[n] - 1)"
   ]
  },
  {
   "cell_type": "code",
   "execution_count": null,
   "metadata": {},
   "outputs": [],
   "source": []
  }
 ],
 "metadata": {
  "kernelspec": {
   "display_name": "Python 3.8.1 32-bit",
   "language": "python",
   "name": "python38132bit23b1fddd62bd4f8ab6b58dac3b5ae4b5"
  },
  "language_info": {
   "codemirror_mode": {
    "name": "ipython",
    "version": 3
   },
   "file_extension": ".py",
   "mimetype": "text/x-python",
   "name": "python",
   "nbconvert_exporter": "python",
   "pygments_lexer": "ipython3",
   "version": "3.8.2"
  }
 },
 "nbformat": 4,
 "nbformat_minor": 4
}
