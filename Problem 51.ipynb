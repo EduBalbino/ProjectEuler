{
 "cells": [
  {
   "cell_type": "code",
   "execution_count": 114,
   "metadata": {
    "execution": {
     "iopub.execute_input": "2020-04-28T05:53:40.670136Z",
     "iopub.status.busy": "2020-04-28T05:53:40.669136Z",
     "iopub.status.idle": "2020-04-28T05:54:37.309375Z",
     "shell.execute_reply": "2020-04-28T05:54:37.308375Z",
     "shell.execute_reply.started": "2020-04-28T05:53:40.669136Z"
    }
   },
   "outputs": [
    {
     "name": "stdout",
     "output_type": "stream",
     "text": [
      "{121313, 323333, 525353, 929393, 222323, 424343, 626363, 828383}\n"
     ]
    }
   ],
   "source": [
    "import itertools\n",
    "\n",
    "def is_prime(n):\n",
    "    if n < 2: \n",
    "         return False;\n",
    "    if n % 2 == 0:             \n",
    "         return n == 2  # return False\n",
    "    k = 3\n",
    "    while k*k <= n:\n",
    "         if n % k == 0:\n",
    "            return False\n",
    "         k += 2\n",
    "    return True\n",
    "\n",
    "def int_from_list_of_numbers(lista):\n",
    "    return int(''.join(list(lista)))\n",
    "\n",
    "def p_051():\n",
    "    set_solution = set()\n",
    "    for n in range(1,5):\n",
    "        positions = [list(x) for x in sorted(set(itertools.combinations('012345', n)))]\n",
    "        for primo in conjunto_primos5dig:\n",
    "            for x in positions:\n",
    "                cont = 0\n",
    "                lista_em_caracteres_do_primo = list(str(primo))\n",
    "                for i in range(0, 10):\n",
    "                    for ipos in x:\n",
    "                        lista_em_caracteres_do_primo[int(ipos)] = str(i) #mudar todas as posições da combinação para 1 número\n",
    "                    if (b:=int_from_list_of_numbers(lista_em_caracteres_do_primo)) in conjunto_primos5dig:\n",
    "                        cont += 1\n",
    "                if cont == 8:\n",
    "                    for i in range(0, 10):\n",
    "                        for ipos in x:\n",
    "                            lista_em_caracteres_do_primo[int(ipos)] = str(i) #mudar todas as posições da combinação para 1 número\n",
    "                        if (b:=int_from_list_of_numbers(lista_em_caracteres_do_primo)) in conjunto_primos5dig:\n",
    "                            set_solution.add(b)\n",
    "                    return set_solution\n",
    "\n",
    "conjunto_primos5dig = {x for x in range(100000, 1000000) if is_prime(x)}\n",
    "\n",
    "print(p_051())"
   ]
  },
  {
   "cell_type": "code",
   "execution_count": null,
   "metadata": {},
   "outputs": [],
   "source": []
  }
 ],
 "metadata": {
  "kernelspec": {
   "display_name": "Python 3.8.1 32-bit",
   "language": "python",
   "name": "python38132bit23b1fddd62bd4f8ab6b58dac3b5ae4b5"
  },
  "language_info": {
   "codemirror_mode": {
    "name": "ipython",
    "version": 3
   },
   "file_extension": ".py",
   "mimetype": "text/x-python",
   "name": "python",
   "nbconvert_exporter": "python",
   "pygments_lexer": "ipython3",
   "version": "3.8.2"
  }
 },
 "nbformat": 4,
 "nbformat_minor": 4
}
