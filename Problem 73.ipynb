{
 "cells": [
  {
   "cell_type": "code",
   "execution_count": 48,
   "metadata": {
    "execution": {
     "iopub.execute_input": "2020-06-01T23:29:42.124749Z",
     "iopub.status.busy": "2020-06-01T23:29:42.123749Z",
     "iopub.status.idle": "2020-06-01T23:29:42.144750Z",
     "shell.execute_reply": "2020-06-01T23:29:42.143750Z",
     "shell.execute_reply.started": "2020-06-01T23:29:42.124749Z"
    }
   },
   "outputs": [],
   "source": [
    "size = 12000\n",
    "\n",
    "def p_073():\n",
    "    soma = 0\n",
    "    listadenumeros = [[] for _ in range(size + 1)]\n",
    "    listadenumeros[1] = [1]\n",
    "    for x in range(2, size + 1):\n",
    "        if not bool(listadenumeros[x]):\n",
    "            listadenumeros[x].append(x)\n",
    "            for k in range(2, size//x + 1):\n",
    "                listadenumeros[x*k].append(x)\n",
    "    for a in range(1, size + 1):\n",
    "        for b in (range(int(a/3) + 1, int(a/2) + 1)):\n",
    "            if bool(listadenumeros[a]) and bool(listadenumeros[b]):\n",
    "                if (div := b/a) > 1/3 and div < 1/2 and set(listadenumeros[a]).isdisjoint(listadenumeros[b]):\n",
    "                    soma += 1\n",
    "    return soma"
   ]
  },
  {
   "cell_type": "code",
   "execution_count": 46,
   "metadata": {
    "execution": {
     "iopub.execute_input": "2020-06-01T23:29:01.308414Z",
     "iopub.status.busy": "2020-06-01T23:29:01.307414Z",
     "iopub.status.idle": "2020-06-01T23:29:29.790043Z",
     "shell.execute_reply": "2020-06-01T23:29:29.789043Z",
     "shell.execute_reply.started": "2020-06-01T23:29:01.308414Z"
    }
   },
   "outputs": [
    {
     "name": "stdout",
     "output_type": "stream",
     "text": [
      "7295372\n"
     ]
    }
   ],
   "source": [
    "print(p_073())"
   ]
  },
  {
   "cell_type": "code",
   "execution_count": null,
   "metadata": {},
   "outputs": [],
   "source": []
  }
 ],
 "metadata": {
  "kernelspec": {
   "display_name": "Python 3 (ipykernel)",
   "language": "python",
   "name": "python3"
  },
  "language_info": {
   "codemirror_mode": {
    "name": "ipython",
    "version": 3
   },
   "file_extension": ".py",
   "mimetype": "text/x-python",
   "name": "python",
   "nbconvert_exporter": "python",
   "pygments_lexer": "ipython3",
   "version": "3.10.2"
  }
 },
 "nbformat": 4,
 "nbformat_minor": 4
}
