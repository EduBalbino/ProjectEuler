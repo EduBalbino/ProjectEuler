{
 "cells": [
  {
   "cell_type": "code",
   "execution_count": 1,
   "metadata": {
    "execution": {
     "iopub.execute_input": "2020-04-20T05:53:46.968986Z",
     "iopub.status.busy": "2020-04-20T05:53:46.967986Z",
     "iopub.status.idle": "2020-04-20T05:53:46.975986Z",
     "shell.execute_reply": "2020-04-20T05:53:46.973986Z",
     "shell.execute_reply.started": "2020-04-20T05:53:46.968986Z"
    }
   },
   "outputs": [],
   "source": [
    "def factorial(n):\n",
    "    if n > 1:\n",
    "        return int(n*factorial(n-1))\n",
    "    else:\n",
    "        return int(n)"
   ]
  },
  {
   "cell_type": "code",
   "execution_count": 2,
   "metadata": {
    "execution": {
     "iopub.execute_input": "2020-04-20T05:53:48.733087Z",
     "iopub.status.busy": "2020-04-20T05:53:48.732087Z",
     "iopub.status.idle": "2020-04-20T05:53:48.751088Z",
     "shell.execute_reply": "2020-04-20T05:53:48.750088Z",
     "shell.execute_reply.started": "2020-04-20T05:53:48.733087Z"
    }
   },
   "outputs": [
    {
     "data": {
      "text/plain": [
       "1307674368000"
      ]
     },
     "execution_count": 2,
     "metadata": {},
     "output_type": "execute_result"
    }
   ],
   "source": [
    "factorial(15)"
   ]
  },
  {
   "cell_type": "code",
   "execution_count": 8,
   "metadata": {
    "execution": {
     "iopub.execute_input": "2020-04-20T05:54:45.149314Z",
     "iopub.status.busy": "2020-04-20T05:54:45.149314Z",
     "iopub.status.idle": "2020-04-20T05:54:45.165314Z",
     "shell.execute_reply": "2020-04-20T05:54:45.164314Z",
     "shell.execute_reply.started": "2020-04-20T05:54:45.149314Z"
    }
   },
   "outputs": [
    {
     "name": "stdout",
     "output_type": "stream",
     "text": [
      "23382\n"
     ]
    }
   ],
   "source": [
    "print(sum(list(map(int, str(factorial(2000))))))"
   ]
  },
  {
   "cell_type": "code",
   "execution_count": null,
   "metadata": {},
   "outputs": [],
   "source": []
  }
 ],
 "metadata": {
  "kernelspec": {
   "display_name": "Python 3.8.1 32-bit",
   "language": "python",
   "name": "python38132bit23b1fddd62bd4f8ab6b58dac3b5ae4b5"
  },
  "language_info": {
   "codemirror_mode": {
    "name": "ipython",
    "version": 3
   },
   "file_extension": ".py",
   "mimetype": "text/x-python",
   "name": "python",
   "nbconvert_exporter": "python",
   "pygments_lexer": "ipython3",
   "version": "3.8.2"
  }
 },
 "nbformat": 4,
 "nbformat_minor": 4
}
