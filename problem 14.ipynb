{
 "cells": [
  {
   "cell_type": "code",
   "execution_count": 1,
   "metadata": {
    "execution": {
     "iopub.execute_input": "2020-06-03T23:03:17.016180Z",
     "iopub.status.busy": "2020-06-03T23:03:17.015180Z",
     "iopub.status.idle": "2020-06-03T23:03:18.111243Z",
     "shell.execute_reply": "2020-06-03T23:03:18.110242Z",
     "shell.execute_reply.started": "2020-06-03T23:03:17.015180Z"
    }
   },
   "outputs": [],
   "source": [
    "def collatz(n):\n",
    "    if n%2 == 0:\n",
    "        return int(n/2)\n",
    "    return int(3*n + 1)\n",
    "\n",
    "n = 1000001\n",
    "\n",
    "sequence = [[x] for x in range(n)]\n",
    "\n",
    "def p_014():\n",
    "    for x in range(2, n):\n",
    "        if((a := collatz(sequence[x][0])) < x):\n",
    "            sequence[x].extend(sequence[a])\n",
    "        else:\n",
    "            while a >= x:\n",
    "                sequence[x].append(a)\n",
    "                a = collatz(a)\n",
    "            sequence[x].extend(sequence[a])\n",
    "    maxsize = [0, 0]\n",
    "    for idx, number in enumerate(sequence):\n",
    "        if (size:=len(number)) > maxsize[0]:\n",
    "            maxsize[0] = size\n",
    "            maxsize[1] = idx\n",
    "    return maxsize[1]"
   ]
  },
  {
   "cell_type": "code",
   "execution_count": 2,
   "metadata": {
    "execution": {
     "iopub.execute_input": "2020-06-03T23:03:19.509323Z",
     "iopub.status.busy": "2020-06-03T23:03:19.508322Z",
     "iopub.status.idle": "2020-06-03T23:03:28.343828Z",
     "shell.execute_reply": "2020-06-03T23:03:28.343828Z",
     "shell.execute_reply.started": "2020-06-03T23:03:19.508322Z"
    }
   },
   "outputs": [
    {
     "name": "stdout",
     "output_type": "stream",
     "text": [
      "837799\n"
     ]
    }
   ],
   "source": [
    "print(p_014())"
   ]
  },
  {
   "cell_type": "code",
   "execution_count": null,
   "metadata": {},
   "outputs": [],
   "source": []
  }
 ],
 "metadata": {
  "kernelspec": {
   "display_name": "Python 3 (ipykernel)",
   "language": "python",
   "name": "python3"
  },
  "language_info": {
   "codemirror_mode": {
    "name": "ipython",
    "version": 3
   },
   "file_extension": ".py",
   "mimetype": "text/x-python",
   "name": "python",
   "nbconvert_exporter": "python",
   "pygments_lexer": "ipython3",
   "version": "3.10.2"
  }
 },
 "nbformat": 4,
 "nbformat_minor": 4
}
