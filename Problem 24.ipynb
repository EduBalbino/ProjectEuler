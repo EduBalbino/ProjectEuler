{
 "cells": [
  {
   "cell_type": "code",
   "execution_count": 1,
   "metadata": {
    "execution": {
     "iopub.execute_input": "2020-04-20T18:14:37.184985Z",
     "iopub.status.busy": "2020-04-20T18:14:37.184985Z",
     "iopub.status.idle": "2020-04-20T18:14:37.192985Z",
     "shell.execute_reply": "2020-04-20T18:14:37.191985Z",
     "shell.execute_reply.started": "2020-04-20T18:14:37.184985Z"
    }
   },
   "outputs": [],
   "source": [
    "import itertools"
   ]
  },
  {
   "cell_type": "code",
   "execution_count": 29,
   "metadata": {
    "execution": {
     "iopub.execute_input": "2020-04-20T18:24:39.052409Z",
     "iopub.status.busy": "2020-04-20T18:24:39.052409Z",
     "iopub.status.idle": "2020-04-20T18:24:39.061409Z",
     "shell.execute_reply": "2020-04-20T18:24:39.059409Z",
     "shell.execute_reply.started": "2020-04-20T18:24:39.052409Z"
    }
   },
   "outputs": [],
   "source": [
    "complete_list = []"
   ]
  },
  {
   "cell_type": "code",
   "execution_count": 32,
   "metadata": {
    "execution": {
     "iopub.execute_input": "2020-04-20T18:25:29.459292Z",
     "iopub.status.busy": "2020-04-20T18:25:29.458292Z",
     "iopub.status.idle": "2020-04-20T18:25:34.784596Z",
     "shell.execute_reply": "2020-04-20T18:25:34.783596Z",
     "shell.execute_reply.started": "2020-04-20T18:25:29.459292Z"
    }
   },
   "outputs": [],
   "source": [
    "for x in range(len((a := list(itertools.permutations('0123456789', 10))))):\n",
    "    complete_list.append(\"\".join(a[x]))"
   ]
  },
  {
   "cell_type": "code",
   "execution_count": 38,
   "metadata": {
    "execution": {
     "iopub.execute_input": "2020-04-20T18:26:39.975325Z",
     "iopub.status.busy": "2020-04-20T18:26:39.974325Z",
     "iopub.status.idle": "2020-04-20T18:26:40.159336Z",
     "shell.execute_reply": "2020-04-20T18:26:40.158336Z",
     "shell.execute_reply.started": "2020-04-20T18:26:39.975325Z"
    }
   },
   "outputs": [
    {
     "data": {
      "text/plain": [
       "'2783915460'"
      ]
     },
     "execution_count": 38,
     "metadata": {},
     "output_type": "execute_result"
    }
   ],
   "source": [
    "sorted(complete_list)[999999]"
   ]
  },
  {
   "cell_type": "code",
   "execution_count": null,
   "metadata": {},
   "outputs": [],
   "source": []
  }
 ],
 "metadata": {
  "kernelspec": {
   "display_name": "Python 3.8.1 32-bit",
   "language": "python",
   "name": "python38132bit23b1fddd62bd4f8ab6b58dac3b5ae4b5"
  },
  "language_info": {
   "codemirror_mode": {
    "name": "ipython",
    "version": 3
   },
   "file_extension": ".py",
   "mimetype": "text/x-python",
   "name": "python",
   "nbconvert_exporter": "python",
   "pygments_lexer": "ipython3",
   "version": "3.8.2"
  }
 },
 "nbformat": 4,
 "nbformat_minor": 4
}
