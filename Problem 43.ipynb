{
 "cells": [
  {
   "cell_type": "code",
   "execution_count": 2,
   "metadata": {
    "execution": {
     "iopub.execute_input": "2020-04-23T23:02:13.504721Z",
     "iopub.status.busy": "2020-04-23T23:02:13.503721Z",
     "iopub.status.idle": "2020-04-23T23:02:13.511721Z",
     "shell.execute_reply": "2020-04-23T23:02:13.510721Z",
     "shell.execute_reply.started": "2020-04-23T23:02:13.504721Z"
    }
   },
   "outputs": [],
   "source": [
    "import itertools"
   ]
  },
  {
   "cell_type": "code",
   "execution_count": 16,
   "metadata": {
    "execution": {
     "iopub.execute_input": "2020-04-23T23:10:08.245875Z",
     "iopub.status.busy": "2020-04-23T23:10:08.244875Z",
     "iopub.status.idle": "2020-04-23T23:10:10.753018Z",
     "shell.execute_reply": "2020-04-23T23:10:10.752018Z",
     "shell.execute_reply.started": "2020-04-23T23:10:08.245875Z"
    }
   },
   "outputs": [],
   "source": [
    "pandigital_list = [y for y in list(map(int, map(''.join, (itertools.permutations('0123456789')))))]"
   ]
  },
  {
   "cell_type": "code",
   "execution_count": 17,
   "metadata": {
    "execution": {
     "iopub.execute_input": "2020-04-23T23:10:12.165099Z",
     "iopub.status.busy": "2020-04-23T23:10:12.165099Z",
     "iopub.status.idle": "2020-04-23T23:10:21.213616Z",
     "shell.execute_reply": "2020-04-23T23:10:21.212616Z",
     "shell.execute_reply.started": "2020-04-23T23:10:12.165099Z"
    }
   },
   "outputs": [],
   "source": [
    "pandigital_with_property = []\n",
    "for x in pandigital_list:\n",
    "    if int(str(x)[1:4])%2 == 0 and int(str(x)[2:5])%3 == 0 and int(str(x)[3:6])%5 == 0 and int(str(x)[4:7])%7 == 0:\n",
    "        if int(str(x)[5:8])%11 == 0 and int(str(x)[6:9])%13 == 0 and int(str(x)[7:10])%17 == 0:\n",
    "            pandigital_with_property.append(x)"
   ]
  },
  {
   "cell_type": "code",
   "execution_count": 19,
   "metadata": {
    "execution": {
     "iopub.execute_input": "2020-04-23T23:10:32.938287Z",
     "iopub.status.busy": "2020-04-23T23:10:32.937287Z",
     "iopub.status.idle": "2020-04-23T23:10:32.950288Z",
     "shell.execute_reply": "2020-04-23T23:10:32.949288Z",
     "shell.execute_reply.started": "2020-04-23T23:10:32.938287Z"
    }
   },
   "outputs": [
    {
     "data": {
      "text/plain": [
       "16695334890"
      ]
     },
     "execution_count": 19,
     "metadata": {},
     "output_type": "execute_result"
    }
   ],
   "source": [
    "sum(pandigital_with_property)"
   ]
  },
  {
   "cell_type": "code",
   "execution_count": 14,
   "metadata": {
    "execution": {
     "iopub.execute_input": "2020-04-23T23:09:28.735615Z",
     "iopub.status.busy": "2020-04-23T23:09:28.735615Z",
     "iopub.status.idle": "2020-04-23T23:09:28.751616Z",
     "shell.execute_reply": "2020-04-23T23:09:28.750616Z",
     "shell.execute_reply.started": "2020-04-23T23:09:28.735615Z"
    }
   },
   "outputs": [
    {
     "data": {
      "text/plain": [
       "False"
      ]
     },
     "execution_count": 14,
     "metadata": {},
     "output_type": "execute_result"
    }
   ],
   "source": [
    "x = 1406357289\n",
    "int(str(x)[1:3])%2 == 0 and int(str(x)[2:4])%3 == 0 and int(str(x)[3:5])%5 == 0 and int(str(x)[4:6])%7 == 0"
   ]
  },
  {
   "cell_type": "code",
   "execution_count": 15,
   "metadata": {
    "execution": {
     "iopub.execute_input": "2020-04-23T23:09:44.747531Z",
     "iopub.status.busy": "2020-04-23T23:09:44.746530Z",
     "iopub.status.idle": "2020-04-23T23:09:44.759531Z",
     "shell.execute_reply": "2020-04-23T23:09:44.757531Z",
     "shell.execute_reply.started": "2020-04-23T23:09:44.747531Z"
    }
   },
   "outputs": [
    {
     "data": {
      "text/plain": [
       "40"
      ]
     },
     "execution_count": 15,
     "metadata": {},
     "output_type": "execute_result"
    }
   ],
   "source": [
    "int(str(x)[1:3])"
   ]
  },
  {
   "cell_type": "code",
   "execution_count": null,
   "metadata": {},
   "outputs": [],
   "source": []
  }
 ],
 "metadata": {
  "kernelspec": {
   "display_name": "Python 3.8.1 32-bit",
   "language": "python",
   "name": "python38132bit23b1fddd62bd4f8ab6b58dac3b5ae4b5"
  },
  "language_info": {
   "codemirror_mode": {
    "name": "ipython",
    "version": 3
   },
   "file_extension": ".py",
   "mimetype": "text/x-python",
   "name": "python",
   "nbconvert_exporter": "python",
   "pygments_lexer": "ipython3",
   "version": "3.8.2"
  }
 },
 "nbformat": 4,
 "nbformat_minor": 4
}
