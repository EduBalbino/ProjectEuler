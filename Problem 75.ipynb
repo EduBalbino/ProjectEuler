{
 "cells": [
  {
   "cell_type": "code",
   "execution_count": 1,
   "metadata": {
    "execution": {
     "iopub.execute_input": "2020-06-04T23:23:21.025548Z",
     "iopub.status.busy": "2020-06-04T23:23:21.025548Z",
     "iopub.status.idle": "2020-06-04T23:23:21.371568Z",
     "shell.execute_reply": "2020-06-04T23:23:21.370568Z",
     "shell.execute_reply.started": "2020-06-04T23:23:21.025548Z"
    }
   },
   "outputs": [],
   "source": [
    "from numpy import *"
   ]
  },
  {
   "cell_type": "code",
   "execution_count": 4,
   "metadata": {
    "execution": {
     "iopub.execute_input": "2020-06-17T18:26:12.781103Z",
     "iopub.status.busy": "2020-06-17T18:26:12.781103Z",
     "iopub.status.idle": "2020-06-17T18:26:12.801104Z",
     "shell.execute_reply": "2020-06-17T18:26:12.800104Z",
     "shell.execute_reply.started": "2020-06-17T18:26:12.781103Z"
    }
   },
   "outputs": [],
   "source": [
    "size = 1500000\n",
    "\n",
    "def p_076() -> int:\n",
    "    primitives = [0 for _ in range(size + 1)]\n",
    "    listadenumeros = [[] for _ in range(size + 1)]\n",
    "    listadenumeros[1] = [1]\n",
    "    for x in range(2, size + 1):\n",
    "        if not bool(listadenumeros[x]):\n",
    "            listadenumeros[x].append(x)\n",
    "            for k in range(2, size//x + 1):\n",
    "                listadenumeros[x*k].append(x)\n",
    "    for a in range(2, size//2 + 1):\n",
    "        for b in range(a + 1, int(2*a)):\n",
    "            if set(listadenumeros[a]).isdisjoint(listadenumeros[b]):\n",
    "                if b%2 == 1:\n",
    "                    if (k:=2*a*b) < 1500000:\n",
    "                        for f in range(1, size//k + 1):\n",
    "                            primitives[k*f] += 1\n",
    "                    else:\n",
    "                        break\n",
    "    soma = 0\n",
    "    for i in primitives:\n",
    "        if i == 1:\n",
    "            soma += 1\n",
    "    return(soma)"
   ]
  },
  {
   "cell_type": "code",
   "execution_count": 5,
   "metadata": {
    "execution": {
     "iopub.execute_input": "2020-06-17T18:26:13.392138Z",
     "iopub.status.busy": "2020-06-17T18:26:13.392138Z",
     "iopub.status.idle": "2020-06-17T18:26:20.309533Z",
     "shell.execute_reply": "2020-06-17T18:26:20.308533Z",
     "shell.execute_reply.started": "2020-06-17T18:26:13.392138Z"
    }
   },
   "outputs": [
    {
     "name": "stdout",
     "output_type": "stream",
     "text": [
      "161667\n"
     ]
    }
   ],
   "source": [
    "print(p_076())"
   ]
  },
  {
   "cell_type": "code",
   "execution_count": null,
   "metadata": {},
   "outputs": [],
   "source": []
  }
 ],
 "metadata": {
  "kernelspec": {
   "display_name": "Python 3.8.1 32-bit",
   "language": "python",
   "name": "python38132bit23b1fddd62bd4f8ab6b58dac3b5ae4b5"
  },
  "language_info": {
   "codemirror_mode": {
    "name": "ipython",
    "version": 3
   },
   "file_extension": ".py",
   "mimetype": "text/x-python",
   "name": "python",
   "nbconvert_exporter": "python",
   "pygments_lexer": "ipython3",
   "version": "3.8.2"
  }
 },
 "nbformat": 4,
 "nbformat_minor": 4
}
