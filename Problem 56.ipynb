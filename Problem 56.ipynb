{
 "cells": [
  {
   "cell_type": "code",
   "execution_count": 1,
   "metadata": {
    "execution": {
     "iopub.execute_input": "2020-04-28T08:50:59.760628Z",
     "iopub.status.busy": "2020-04-28T08:50:59.759628Z",
     "iopub.status.idle": "2020-04-28T08:50:59.780630Z",
     "shell.execute_reply": "2020-04-28T08:50:59.779629Z",
     "shell.execute_reply.started": "2020-04-28T08:50:59.760628Z"
    }
   },
   "outputs": [
    {
     "data": {
      "text/plain": [
       "11"
      ]
     },
     "execution_count": 1,
     "metadata": {},
     "output_type": "execute_result"
    }
   ],
   "source": [
    "sum(map(int, list(str(155))))"
   ]
  },
  {
   "cell_type": "code",
   "execution_count": 6,
   "metadata": {
    "execution": {
     "iopub.execute_input": "2020-04-28T08:54:24.025312Z",
     "iopub.status.busy": "2020-04-28T08:54:24.025312Z",
     "iopub.status.idle": "2020-04-28T08:54:24.036312Z",
     "shell.execute_reply": "2020-04-28T08:54:24.035312Z",
     "shell.execute_reply.started": "2020-04-28T08:54:24.025312Z"
    }
   },
   "outputs": [],
   "source": [
    "def p_56():\n",
    "    lista = []\n",
    "    max_value = 0\n",
    "    for a in range(1, 100):\n",
    "        for b in range(1, 100):\n",
    "            if (c:=sum(map(int, list(str(a**b))))) > max_value:\n",
    "                max_value = c\n",
    "    return max_value"
   ]
  },
  {
   "cell_type": "code",
   "execution_count": 7,
   "metadata": {
    "execution": {
     "iopub.execute_input": "2020-04-28T08:54:24.190321Z",
     "iopub.status.busy": "2020-04-28T08:54:24.190321Z",
     "iopub.status.idle": "2020-04-28T08:54:24.461337Z",
     "shell.execute_reply": "2020-04-28T08:54:24.460337Z",
     "shell.execute_reply.started": "2020-04-28T08:54:24.190321Z"
    }
   },
   "outputs": [
    {
     "name": "stdout",
     "output_type": "stream",
     "text": [
      "972\n"
     ]
    }
   ],
   "source": [
    "print(p_56())"
   ]
  },
  {
   "cell_type": "code",
   "execution_count": null,
   "metadata": {},
   "outputs": [],
   "source": []
  }
 ],
 "metadata": {
  "kernelspec": {
   "display_name": "Python 3.8.1 32-bit",
   "language": "python",
   "name": "python38132bit23b1fddd62bd4f8ab6b58dac3b5ae4b5"
  },
  "language_info": {
   "codemirror_mode": {
    "name": "ipython",
    "version": 3
   },
   "file_extension": ".py",
   "mimetype": "text/x-python",
   "name": "python",
   "nbconvert_exporter": "python",
   "pygments_lexer": "ipython3",
   "version": "3.8.2"
  }
 },
 "nbformat": 4,
 "nbformat_minor": 4
}
