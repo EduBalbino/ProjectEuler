{
 "cells": [
  {
   "cell_type": "code",
   "execution_count": 2,
   "metadata": {
    "execution": {
     "iopub.execute_input": "2020-04-23T06:39:01.450105Z",
     "iopub.status.busy": "2020-04-23T06:39:01.449105Z",
     "iopub.status.idle": "2020-04-23T06:39:01.457106Z",
     "shell.execute_reply": "2020-04-23T06:39:01.456106Z",
     "shell.execute_reply.started": "2020-04-23T06:39:01.450105Z"
    }
   },
   "outputs": [],
   "source": [
    "import math"
   ]
  },
  {
   "cell_type": "code",
   "execution_count": 10,
   "metadata": {
    "execution": {
     "iopub.execute_input": "2020-04-23T06:42:03.025491Z",
     "iopub.status.busy": "2020-04-23T06:42:03.025491Z",
     "iopub.status.idle": "2020-04-23T06:42:03.031491Z",
     "shell.execute_reply": "2020-04-23T06:42:03.030491Z",
     "shell.execute_reply.started": "2020-04-23T06:42:03.025491Z"
    }
   },
   "outputs": [],
   "source": [
    "def fac(x):\n",
    "    return math.factorial(x)"
   ]
  },
  {
   "cell_type": "code",
   "execution_count": 25,
   "metadata": {
    "execution": {
     "iopub.execute_input": "2020-04-23T06:45:22.643908Z",
     "iopub.status.busy": "2020-04-23T06:45:22.642908Z",
     "iopub.status.idle": "2020-04-23T06:45:28.091220Z",
     "shell.execute_reply": "2020-04-23T06:45:28.089220Z",
     "shell.execute_reply.started": "2020-04-23T06:45:22.643908Z"
    }
   },
   "outputs": [
    {
     "ename": "KeyboardInterrupt",
     "evalue": "",
     "output_type": "error",
     "traceback": [
      "\u001b[1;31m---------------------------------------------------------------------------\u001b[0m",
      "\u001b[1;31mKeyboardInterrupt\u001b[0m                         Traceback (most recent call last)",
      "\u001b[1;32m<ipython-input-25-3c99e196c50f>\u001b[0m in \u001b[0;36m<module>\u001b[1;34m\u001b[0m\n\u001b[0;32m      1\u001b[0m \u001b[1;32mfor\u001b[0m \u001b[0mx\u001b[0m \u001b[1;32min\u001b[0m \u001b[0mrange\u001b[0m\u001b[1;33m(\u001b[0m\u001b[1;36m100000\u001b[0m\u001b[1;33m)\u001b[0m\u001b[1;33m:\u001b[0m\u001b[1;33m\u001b[0m\u001b[1;33m\u001b[0m\u001b[0m\n\u001b[0;32m      2\u001b[0m     \u001b[0mlist\u001b[0m\u001b[1;33m(\u001b[0m\u001b[0mmap\u001b[0m\u001b[1;33m(\u001b[0m\u001b[0mint\u001b[0m\u001b[1;33m,\u001b[0m \u001b[0mstr\u001b[0m\u001b[1;33m(\u001b[0m\u001b[0mx\u001b[0m\u001b[1;33m)\u001b[0m\u001b[1;33m)\u001b[0m\u001b[1;33m)\u001b[0m\u001b[1;33m\u001b[0m\u001b[1;33m\u001b[0m\u001b[0m\n\u001b[1;32m----> 3\u001b[1;33m     \u001b[0mfac\u001b[0m\u001b[1;33m(\u001b[0m\u001b[0mx\u001b[0m\u001b[1;33m)\u001b[0m\u001b[1;33m\u001b[0m\u001b[1;33m\u001b[0m\u001b[0m\n\u001b[0m",
      "\u001b[1;31mKeyboardInterrupt\u001b[0m: "
     ]
    }
   ],
   "source": [
    "for x in range(100000):\n",
    "    list(map(int, str(x)))\n",
    "    fac(x)"
   ]
  },
  {
   "cell_type": "code",
   "execution_count": 28,
   "metadata": {
    "execution": {
     "iopub.execute_input": "2020-04-23T06:45:56.762860Z",
     "iopub.status.busy": "2020-04-23T06:45:56.762860Z",
     "iopub.status.idle": "2020-04-23T06:45:56.771861Z",
     "shell.execute_reply": "2020-04-23T06:45:56.770860Z",
     "shell.execute_reply.started": "2020-04-23T06:45:56.762860Z"
    }
   },
   "outputs": [
    {
     "data": {
      "text/plain": [
       "[120, 1]"
      ]
     },
     "execution_count": 28,
     "metadata": {},
     "output_type": "execute_result"
    }
   ],
   "source": [
    "list(map(fac, list(map(int, str(50)))))"
   ]
  },
  {
   "cell_type": "code",
   "execution_count": 24,
   "metadata": {
    "execution": {
     "iopub.execute_input": "2020-04-23T06:43:48.830543Z",
     "iopub.status.busy": "2020-04-23T06:43:48.829543Z",
     "iopub.status.idle": "2020-04-23T06:43:48.838543Z",
     "shell.execute_reply": "2020-04-23T06:43:48.837543Z",
     "shell.execute_reply.started": "2020-04-23T06:43:48.830543Z"
    }
   },
   "outputs": [
    {
     "data": {
      "text/plain": [
       "25200"
      ]
     },
     "execution_count": 24,
     "metadata": {},
     "output_type": "execute_result"
    }
   ],
   "source": [
    "5*fac(7)"
   ]
  },
  {
   "cell_type": "code",
   "execution_count": null,
   "metadata": {},
   "outputs": [],
   "source": []
  }
 ],
 "metadata": {
  "kernelspec": {
   "display_name": "Python 3.8.1 32-bit",
   "language": "python",
   "name": "python38132bit23b1fddd62bd4f8ab6b58dac3b5ae4b5"
  },
  "language_info": {
   "codemirror_mode": {
    "name": "ipython",
    "version": 3
   },
   "file_extension": ".py",
   "mimetype": "text/x-python",
   "name": "python",
   "nbconvert_exporter": "python",
   "pygments_lexer": "ipython3",
   "version": "3.8.2"
  }
 },
 "nbformat": 4,
 "nbformat_minor": 4
}
